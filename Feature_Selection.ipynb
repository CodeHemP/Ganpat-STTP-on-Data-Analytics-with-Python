{
  "nbformat": 4,
  "nbformat_minor": 0,
  "metadata": {
    "colab": {
      "name": "Feature Selection.ipynb",
      "provenance": [],
      "collapsed_sections": [
        "sVI28ejp6__G",
        "tMXCdVYH8zxo",
        "tvNNciMPdlcl",
        "T7G1JVVjc3Ok",
        "_qZIogZj6E1A",
        "WAC3J6fSahpx"
      ],
      "toc_visible": true,
      "authorship_tag": "ABX9TyMeGEjFDgXlfZ7LLRfiYk3t",
      "include_colab_link": true
    },
    "kernelspec": {
      "name": "python3",
      "display_name": "Python 3"
    },
    "language_info": {
      "name": "python"
    }
  },
  "cells": [
    {
      "cell_type": "markdown",
      "metadata": {
        "id": "view-in-github",
        "colab_type": "text"
      },
      "source": [
        "<a href=\"https://colab.research.google.com/github/ashishpatel26/Ganpat-STTP-on-Data-Analytics-with-Python/blob/main/Feature_Selection.ipynb\" target=\"_parent\"><img src=\"https://colab.research.google.com/assets/colab-badge.svg\" alt=\"Open In Colab\"/></a>"
      ]
    },
    {
      "cell_type": "code",
      "metadata": {
        "id": "J33d31hV8KFL"
      },
      "source": [
        "import pandas as pd                 # used for data manipulation\n",
        "import numpy as np                  # used for numeric computation or algebric operation\n",
        "import seaborn as sns               # used for graph\n",
        "import matplotlib.pyplot as plt     # used for graph\n",
        "import os                           # control system level task\n",
        "plt.style.use('seaborn-colorblind') # used for select the graph design\n",
        "# used for print inline graph  \n",
        "%matplotlib inline                  "
      ],
      "execution_count": 1,
      "outputs": []
    },
    {
      "cell_type": "markdown",
      "metadata": {
        "id": "sVI28ejp6__G"
      },
      "source": [
        "### Data Reading"
      ]
    },
    {
      "cell_type": "code",
      "metadata": {
        "colab": {
          "base_uri": "https://localhost:8080/",
          "height": 203
        },
        "id": "Oh1CJCT46caF",
        "outputId": "3e0e0199-45fa-46da-b081-5366c68e7808"
      },
      "source": [
        "# 1. Read the dataset\n",
        "\n",
        "# 1.1 Select the number of columns to display\n",
        "use_cols = ['Pclass', 'Sex', 'Age', 'Fare', 'SibSp','Survived']\n",
        "\n",
        "# 1.2 Read the dataset\n",
        "titanic = pd.read_csv(\"https://raw.githubusercontent.com/ashishpatel26/Amazing-Feature-Engineering/master/data/titanic.csv\", usecols=use_cols)\n",
        "\n",
        "# 1.3 Display first five row for dataset\n",
        "titanic.head()"
      ],
      "execution_count": 2,
      "outputs": [
        {
          "output_type": "execute_result",
          "data": {
            "text/html": [
              "<div>\n",
              "<style scoped>\n",
              "    .dataframe tbody tr th:only-of-type {\n",
              "        vertical-align: middle;\n",
              "    }\n",
              "\n",
              "    .dataframe tbody tr th {\n",
              "        vertical-align: top;\n",
              "    }\n",
              "\n",
              "    .dataframe thead th {\n",
              "        text-align: right;\n",
              "    }\n",
              "</style>\n",
              "<table border=\"1\" class=\"dataframe\">\n",
              "  <thead>\n",
              "    <tr style=\"text-align: right;\">\n",
              "      <th></th>\n",
              "      <th>Survived</th>\n",
              "      <th>Pclass</th>\n",
              "      <th>Sex</th>\n",
              "      <th>Age</th>\n",
              "      <th>SibSp</th>\n",
              "      <th>Fare</th>\n",
              "    </tr>\n",
              "  </thead>\n",
              "  <tbody>\n",
              "    <tr>\n",
              "      <th>0</th>\n",
              "      <td>0</td>\n",
              "      <td>3</td>\n",
              "      <td>male</td>\n",
              "      <td>22.0</td>\n",
              "      <td>1</td>\n",
              "      <td>7.2500</td>\n",
              "    </tr>\n",
              "    <tr>\n",
              "      <th>1</th>\n",
              "      <td>1</td>\n",
              "      <td>1</td>\n",
              "      <td>female</td>\n",
              "      <td>38.0</td>\n",
              "      <td>1</td>\n",
              "      <td>71.2833</td>\n",
              "    </tr>\n",
              "    <tr>\n",
              "      <th>2</th>\n",
              "      <td>1</td>\n",
              "      <td>3</td>\n",
              "      <td>female</td>\n",
              "      <td>26.0</td>\n",
              "      <td>0</td>\n",
              "      <td>7.9250</td>\n",
              "    </tr>\n",
              "    <tr>\n",
              "      <th>3</th>\n",
              "      <td>1</td>\n",
              "      <td>1</td>\n",
              "      <td>female</td>\n",
              "      <td>35.0</td>\n",
              "      <td>1</td>\n",
              "      <td>53.1000</td>\n",
              "    </tr>\n",
              "    <tr>\n",
              "      <th>4</th>\n",
              "      <td>0</td>\n",
              "      <td>3</td>\n",
              "      <td>male</td>\n",
              "      <td>35.0</td>\n",
              "      <td>0</td>\n",
              "      <td>8.0500</td>\n",
              "    </tr>\n",
              "  </tbody>\n",
              "</table>\n",
              "</div>"
            ],
            "text/plain": [
              "   Survived  Pclass     Sex   Age  SibSp     Fare\n",
              "0         0       3    male  22.0      1   7.2500\n",
              "1         1       1  female  38.0      1  71.2833\n",
              "2         1       3  female  26.0      0   7.9250\n",
              "3         1       1  female  35.0      1  53.1000\n",
              "4         0       3    male  35.0      0   8.0500"
            ]
          },
          "metadata": {},
          "execution_count": 2
        }
      ]
    },
    {
      "cell_type": "code",
      "metadata": {
        "colab": {
          "base_uri": "https://localhost:8080/"
        },
        "id": "wvzNjlv277qE",
        "outputId": "9ed15774-daeb-4c8a-f4f7-60bcd722119f"
      },
      "source": [
        "# 2. Print the shape of the dataset\n",
        "print(f\"Total Rows : {titanic.shape[0]} Columns : {titanic.shape[1]}\")"
      ],
      "execution_count": 3,
      "outputs": [
        {
          "output_type": "stream",
          "text": [
            "Total Rows : 891 Columns : 6\n"
          ],
          "name": "stdout"
        }
      ]
    },
    {
      "cell_type": "markdown",
      "metadata": {
        "id": "tMXCdVYH8zxo"
      },
      "source": [
        "### Missing Value Checking"
      ]
    },
    {
      "cell_type": "code",
      "metadata": {
        "colab": {
          "base_uri": "https://localhost:8080/",
          "height": 234
        },
        "id": "XJHNgePA9EAP",
        "outputId": "db7935ec-b330-4070-d25f-1168f15093d1"
      },
      "source": [
        "# 3. Generate the missing value and its Proportion values\n",
        "# only variable Age has missing values, totally 177 cases\n",
        "result = pd.concat([titanic.isnull().sum(), titanic.isnull().mean()], axis=1)\n",
        "result = result.rename(index = str, columns = {0:'Total Missing', 1:'Proportion'})\n",
        "result"
      ],
      "execution_count": 4,
      "outputs": [
        {
          "output_type": "execute_result",
          "data": {
            "text/html": [
              "<div>\n",
              "<style scoped>\n",
              "    .dataframe tbody tr th:only-of-type {\n",
              "        vertical-align: middle;\n",
              "    }\n",
              "\n",
              "    .dataframe tbody tr th {\n",
              "        vertical-align: top;\n",
              "    }\n",
              "\n",
              "    .dataframe thead th {\n",
              "        text-align: right;\n",
              "    }\n",
              "</style>\n",
              "<table border=\"1\" class=\"dataframe\">\n",
              "  <thead>\n",
              "    <tr style=\"text-align: right;\">\n",
              "      <th></th>\n",
              "      <th>Total Missing</th>\n",
              "      <th>Proportion</th>\n",
              "    </tr>\n",
              "  </thead>\n",
              "  <tbody>\n",
              "    <tr>\n",
              "      <th>Survived</th>\n",
              "      <td>0</td>\n",
              "      <td>0.000000</td>\n",
              "    </tr>\n",
              "    <tr>\n",
              "      <th>Pclass</th>\n",
              "      <td>0</td>\n",
              "      <td>0.000000</td>\n",
              "    </tr>\n",
              "    <tr>\n",
              "      <th>Sex</th>\n",
              "      <td>0</td>\n",
              "      <td>0.000000</td>\n",
              "    </tr>\n",
              "    <tr>\n",
              "      <th>Age</th>\n",
              "      <td>177</td>\n",
              "      <td>0.198653</td>\n",
              "    </tr>\n",
              "    <tr>\n",
              "      <th>SibSp</th>\n",
              "      <td>0</td>\n",
              "      <td>0.000000</td>\n",
              "    </tr>\n",
              "    <tr>\n",
              "      <th>Fare</th>\n",
              "      <td>0</td>\n",
              "      <td>0.000000</td>\n",
              "    </tr>\n",
              "  </tbody>\n",
              "</table>\n",
              "</div>"
            ],
            "text/plain": [
              "          Total Missing  Proportion\n",
              "Survived              0    0.000000\n",
              "Pclass                0    0.000000\n",
              "Sex                   0    0.000000\n",
              "Age                 177    0.198653\n",
              "SibSp                 0    0.000000\n",
              "Fare                  0    0.000000"
            ]
          },
          "metadata": {},
          "execution_count": 4
        }
      ]
    },
    {
      "cell_type": "markdown",
      "metadata": {
        "id": "agu9Oay8Nj5Z"
      },
      "source": [
        "## Missing Value Handling Methods"
      ]
    },
    {
      "cell_type": "markdown",
      "metadata": {
        "id": "tKqD4MAucwYk"
      },
      "source": [
        "### **1. List wise Deletion :** \n",
        "a strategy for dealing with the problem of missing data in which an entire case record is excluded from statistical analysis if values are found to be missing for any variable of interest.\n",
        "\n",
        "![](https://d35fo82fjcw0y8.cloudfront.net/2016/03/03210603/listwise-deletion.jpg)"
      ]
    },
    {
      "cell_type": "code",
      "metadata": {
        "colab": {
          "base_uri": "https://localhost:8080/",
          "height": 487
        },
        "id": "EzZWg-5q8ewE",
        "outputId": "5932c2a9-23ce-4175-c50c-88cf18fc22b9"
      },
      "source": [
        "# 4. List wise Deletion\n",
        "\n",
        "titanic_copy = titanic.copy(deep=True)                         # Generate the shallow copy\n",
        "\n",
        "# 4.1 Before List wise Deletion dataset\n",
        "print(f\"Before List wise Deletion Total Rows : {titanic_copy.shape[0]} Columns : {titanic_copy.shape[1]}\")\n",
        "b_rows = titanic_copy.shape[0]\n",
        "display(titanic[titanic_copy[\"Age\"].isnull()])\n",
        "\n",
        "# 4.2 After List wise Deletion dataset\n",
        "titanic_copy = titanic_copy.dropna(axis=0,inplace=False)    # list wise deletion operation\n",
        "print(f\"After List wise Deletion Total Rows : {titanic_copy.shape[0]} Columns : {titanic_copy.shape[1]}\")\n",
        "a_rows = titanic_copy.shape[0]\n",
        "print(f\"Total Rows Deleted : {b_rows-a_rows}\")\n",
        "\n",
        "# 4.3 Display the data after list wise deletion\n",
        "if titanic_copy[\"Age\"].isnull().sum() > 0:\n",
        "  display(titanic[titanic_copy[\"Age\"].isnull()])\n",
        "else:\n",
        "  print(\"All NA rows are deleted\")"
      ],
      "execution_count": 5,
      "outputs": [
        {
          "output_type": "stream",
          "text": [
            "Before List wise Deletion Total Rows : 891 Columns : 6\n"
          ],
          "name": "stdout"
        },
        {
          "output_type": "display_data",
          "data": {
            "text/html": [
              "<div>\n",
              "<style scoped>\n",
              "    .dataframe tbody tr th:only-of-type {\n",
              "        vertical-align: middle;\n",
              "    }\n",
              "\n",
              "    .dataframe tbody tr th {\n",
              "        vertical-align: top;\n",
              "    }\n",
              "\n",
              "    .dataframe thead th {\n",
              "        text-align: right;\n",
              "    }\n",
              "</style>\n",
              "<table border=\"1\" class=\"dataframe\">\n",
              "  <thead>\n",
              "    <tr style=\"text-align: right;\">\n",
              "      <th></th>\n",
              "      <th>Survived</th>\n",
              "      <th>Pclass</th>\n",
              "      <th>Sex</th>\n",
              "      <th>Age</th>\n",
              "      <th>SibSp</th>\n",
              "      <th>Fare</th>\n",
              "    </tr>\n",
              "  </thead>\n",
              "  <tbody>\n",
              "    <tr>\n",
              "      <th>5</th>\n",
              "      <td>0</td>\n",
              "      <td>3</td>\n",
              "      <td>male</td>\n",
              "      <td>NaN</td>\n",
              "      <td>0</td>\n",
              "      <td>8.4583</td>\n",
              "    </tr>\n",
              "    <tr>\n",
              "      <th>17</th>\n",
              "      <td>1</td>\n",
              "      <td>2</td>\n",
              "      <td>male</td>\n",
              "      <td>NaN</td>\n",
              "      <td>0</td>\n",
              "      <td>13.0000</td>\n",
              "    </tr>\n",
              "    <tr>\n",
              "      <th>19</th>\n",
              "      <td>1</td>\n",
              "      <td>3</td>\n",
              "      <td>female</td>\n",
              "      <td>NaN</td>\n",
              "      <td>0</td>\n",
              "      <td>7.2250</td>\n",
              "    </tr>\n",
              "    <tr>\n",
              "      <th>26</th>\n",
              "      <td>0</td>\n",
              "      <td>3</td>\n",
              "      <td>male</td>\n",
              "      <td>NaN</td>\n",
              "      <td>0</td>\n",
              "      <td>7.2250</td>\n",
              "    </tr>\n",
              "    <tr>\n",
              "      <th>28</th>\n",
              "      <td>1</td>\n",
              "      <td>3</td>\n",
              "      <td>female</td>\n",
              "      <td>NaN</td>\n",
              "      <td>0</td>\n",
              "      <td>7.8792</td>\n",
              "    </tr>\n",
              "    <tr>\n",
              "      <th>...</th>\n",
              "      <td>...</td>\n",
              "      <td>...</td>\n",
              "      <td>...</td>\n",
              "      <td>...</td>\n",
              "      <td>...</td>\n",
              "      <td>...</td>\n",
              "    </tr>\n",
              "    <tr>\n",
              "      <th>859</th>\n",
              "      <td>0</td>\n",
              "      <td>3</td>\n",
              "      <td>male</td>\n",
              "      <td>NaN</td>\n",
              "      <td>0</td>\n",
              "      <td>7.2292</td>\n",
              "    </tr>\n",
              "    <tr>\n",
              "      <th>863</th>\n",
              "      <td>0</td>\n",
              "      <td>3</td>\n",
              "      <td>female</td>\n",
              "      <td>NaN</td>\n",
              "      <td>8</td>\n",
              "      <td>69.5500</td>\n",
              "    </tr>\n",
              "    <tr>\n",
              "      <th>868</th>\n",
              "      <td>0</td>\n",
              "      <td>3</td>\n",
              "      <td>male</td>\n",
              "      <td>NaN</td>\n",
              "      <td>0</td>\n",
              "      <td>9.5000</td>\n",
              "    </tr>\n",
              "    <tr>\n",
              "      <th>878</th>\n",
              "      <td>0</td>\n",
              "      <td>3</td>\n",
              "      <td>male</td>\n",
              "      <td>NaN</td>\n",
              "      <td>0</td>\n",
              "      <td>7.8958</td>\n",
              "    </tr>\n",
              "    <tr>\n",
              "      <th>888</th>\n",
              "      <td>0</td>\n",
              "      <td>3</td>\n",
              "      <td>female</td>\n",
              "      <td>NaN</td>\n",
              "      <td>1</td>\n",
              "      <td>23.4500</td>\n",
              "    </tr>\n",
              "  </tbody>\n",
              "</table>\n",
              "<p>177 rows × 6 columns</p>\n",
              "</div>"
            ],
            "text/plain": [
              "     Survived  Pclass     Sex  Age  SibSp     Fare\n",
              "5           0       3    male  NaN      0   8.4583\n",
              "17          1       2    male  NaN      0  13.0000\n",
              "19          1       3  female  NaN      0   7.2250\n",
              "26          0       3    male  NaN      0   7.2250\n",
              "28          1       3  female  NaN      0   7.8792\n",
              "..        ...     ...     ...  ...    ...      ...\n",
              "859         0       3    male  NaN      0   7.2292\n",
              "863         0       3  female  NaN      8  69.5500\n",
              "868         0       3    male  NaN      0   9.5000\n",
              "878         0       3    male  NaN      0   7.8958\n",
              "888         0       3  female  NaN      1  23.4500\n",
              "\n",
              "[177 rows x 6 columns]"
            ]
          },
          "metadata": {}
        },
        {
          "output_type": "stream",
          "text": [
            "After List wise Deletion Total Rows : 714 Columns : 6\n",
            "Total Rows Deleted : 177\n",
            "All NA rows are deleted\n"
          ],
          "name": "stdout"
        }
      ]
    },
    {
      "cell_type": "markdown",
      "metadata": {
        "id": "a5xbS0BXRPEA"
      },
      "source": [
        "### **2. Mean Median Mode Imputation :** \n",
        "Mean/median imputation consists of replacing all occurrences of missing values (NA) within a variable by the mean or median.\n",
        "> Note : **When to use mean/median imputation?** :  \n",
        "*Data is missing completely at random. No more than 5% of the variable contains missing data.*\n",
        "\n",
        "![](https://miro.medium.com/max/1838/1*b5JhYgFXJVJJaLlDs9dSEw.png) ![](https://miro.medium.com/max/875/1*zQelKaI6hXWq0Tkd5rqUAg.png) ![](https://miro.medium.com/max/875/1*qoL0cpQ-CzQ6GhD-sKEVTA.png)"
      ]
    },
    {
      "cell_type": "code",
      "metadata": {
        "colab": {
          "base_uri": "https://localhost:8080/",
          "height": 470
        },
        "id": "XRBRUYnWOk63",
        "outputId": "6ddd3ec3-203c-49e5-b4c0-ebde164de3f6"
      },
      "source": [
        "# 5. Mean Median Mode Imputation\n",
        "titanic_copy = titanic.copy(deep=True)\n",
        "print('-'*80)\n",
        "print(f\"Age Mean: {titanic_copy['Age'].mean()}\\tAge Median : {titanic_copy['Age'].median()}\\tAge Median : {titanic_copy['Age'].mode()[0]}\")\n",
        "print('-'*80)\n",
        "\n",
        "# 5.1 Impute the Missing value through Mean\n",
        "titanic_copy['Age_impute_mean'] = titanic_copy['Age'].fillna(titanic_copy['Age'].mean())\n",
        "\n",
        "# 5.2 Result of Missing value\n",
        "titanic_copy[titanic_copy[\"Age\"].isnull()][['Age','Age_impute_mean']]"
      ],
      "execution_count": 6,
      "outputs": [
        {
          "output_type": "stream",
          "text": [
            "--------------------------------------------------------------------------------\n",
            "Age Mean: 29.69911764705882\tAge Median : 28.0\tAge Median : 24.0\n",
            "--------------------------------------------------------------------------------\n"
          ],
          "name": "stdout"
        },
        {
          "output_type": "execute_result",
          "data": {
            "text/html": [
              "<div>\n",
              "<style scoped>\n",
              "    .dataframe tbody tr th:only-of-type {\n",
              "        vertical-align: middle;\n",
              "    }\n",
              "\n",
              "    .dataframe tbody tr th {\n",
              "        vertical-align: top;\n",
              "    }\n",
              "\n",
              "    .dataframe thead th {\n",
              "        text-align: right;\n",
              "    }\n",
              "</style>\n",
              "<table border=\"1\" class=\"dataframe\">\n",
              "  <thead>\n",
              "    <tr style=\"text-align: right;\">\n",
              "      <th></th>\n",
              "      <th>Age</th>\n",
              "      <th>Age_impute_mean</th>\n",
              "    </tr>\n",
              "  </thead>\n",
              "  <tbody>\n",
              "    <tr>\n",
              "      <th>5</th>\n",
              "      <td>NaN</td>\n",
              "      <td>29.699118</td>\n",
              "    </tr>\n",
              "    <tr>\n",
              "      <th>17</th>\n",
              "      <td>NaN</td>\n",
              "      <td>29.699118</td>\n",
              "    </tr>\n",
              "    <tr>\n",
              "      <th>19</th>\n",
              "      <td>NaN</td>\n",
              "      <td>29.699118</td>\n",
              "    </tr>\n",
              "    <tr>\n",
              "      <th>26</th>\n",
              "      <td>NaN</td>\n",
              "      <td>29.699118</td>\n",
              "    </tr>\n",
              "    <tr>\n",
              "      <th>28</th>\n",
              "      <td>NaN</td>\n",
              "      <td>29.699118</td>\n",
              "    </tr>\n",
              "    <tr>\n",
              "      <th>...</th>\n",
              "      <td>...</td>\n",
              "      <td>...</td>\n",
              "    </tr>\n",
              "    <tr>\n",
              "      <th>859</th>\n",
              "      <td>NaN</td>\n",
              "      <td>29.699118</td>\n",
              "    </tr>\n",
              "    <tr>\n",
              "      <th>863</th>\n",
              "      <td>NaN</td>\n",
              "      <td>29.699118</td>\n",
              "    </tr>\n",
              "    <tr>\n",
              "      <th>868</th>\n",
              "      <td>NaN</td>\n",
              "      <td>29.699118</td>\n",
              "    </tr>\n",
              "    <tr>\n",
              "      <th>878</th>\n",
              "      <td>NaN</td>\n",
              "      <td>29.699118</td>\n",
              "    </tr>\n",
              "    <tr>\n",
              "      <th>888</th>\n",
              "      <td>NaN</td>\n",
              "      <td>29.699118</td>\n",
              "    </tr>\n",
              "  </tbody>\n",
              "</table>\n",
              "<p>177 rows × 2 columns</p>\n",
              "</div>"
            ],
            "text/plain": [
              "     Age  Age_impute_mean\n",
              "5    NaN        29.699118\n",
              "17   NaN        29.699118\n",
              "19   NaN        29.699118\n",
              "26   NaN        29.699118\n",
              "28   NaN        29.699118\n",
              "..   ...              ...\n",
              "859  NaN        29.699118\n",
              "863  NaN        29.699118\n",
              "868  NaN        29.699118\n",
              "878  NaN        29.699118\n",
              "888  NaN        29.699118\n",
              "\n",
              "[177 rows x 2 columns]"
            ]
          },
          "metadata": {},
          "execution_count": 6
        }
      ]
    },
    {
      "cell_type": "code",
      "metadata": {
        "colab": {
          "base_uri": "https://localhost:8080/",
          "height": 417
        },
        "id": "58207fqMVih3",
        "outputId": "27d54654-a35f-4354-b9a0-d1cfae0918a7"
      },
      "source": [
        "# 5.3 Impute the Missing value through Median\n",
        "titanic_copy = titanic.copy(deep=True)\n",
        "titanic_copy['Age_impute_median'] = titanic_copy['Age'].fillna(titanic_copy['Age'].median())\n",
        "\n",
        "# 5.4 Result of Missing value\n",
        "titanic_copy[titanic_copy[\"Age\"].isnull()][['Age','Age_impute_median']]"
      ],
      "execution_count": 7,
      "outputs": [
        {
          "output_type": "execute_result",
          "data": {
            "text/html": [
              "<div>\n",
              "<style scoped>\n",
              "    .dataframe tbody tr th:only-of-type {\n",
              "        vertical-align: middle;\n",
              "    }\n",
              "\n",
              "    .dataframe tbody tr th {\n",
              "        vertical-align: top;\n",
              "    }\n",
              "\n",
              "    .dataframe thead th {\n",
              "        text-align: right;\n",
              "    }\n",
              "</style>\n",
              "<table border=\"1\" class=\"dataframe\">\n",
              "  <thead>\n",
              "    <tr style=\"text-align: right;\">\n",
              "      <th></th>\n",
              "      <th>Age</th>\n",
              "      <th>Age_impute_median</th>\n",
              "    </tr>\n",
              "  </thead>\n",
              "  <tbody>\n",
              "    <tr>\n",
              "      <th>5</th>\n",
              "      <td>NaN</td>\n",
              "      <td>28.0</td>\n",
              "    </tr>\n",
              "    <tr>\n",
              "      <th>17</th>\n",
              "      <td>NaN</td>\n",
              "      <td>28.0</td>\n",
              "    </tr>\n",
              "    <tr>\n",
              "      <th>19</th>\n",
              "      <td>NaN</td>\n",
              "      <td>28.0</td>\n",
              "    </tr>\n",
              "    <tr>\n",
              "      <th>26</th>\n",
              "      <td>NaN</td>\n",
              "      <td>28.0</td>\n",
              "    </tr>\n",
              "    <tr>\n",
              "      <th>28</th>\n",
              "      <td>NaN</td>\n",
              "      <td>28.0</td>\n",
              "    </tr>\n",
              "    <tr>\n",
              "      <th>...</th>\n",
              "      <td>...</td>\n",
              "      <td>...</td>\n",
              "    </tr>\n",
              "    <tr>\n",
              "      <th>859</th>\n",
              "      <td>NaN</td>\n",
              "      <td>28.0</td>\n",
              "    </tr>\n",
              "    <tr>\n",
              "      <th>863</th>\n",
              "      <td>NaN</td>\n",
              "      <td>28.0</td>\n",
              "    </tr>\n",
              "    <tr>\n",
              "      <th>868</th>\n",
              "      <td>NaN</td>\n",
              "      <td>28.0</td>\n",
              "    </tr>\n",
              "    <tr>\n",
              "      <th>878</th>\n",
              "      <td>NaN</td>\n",
              "      <td>28.0</td>\n",
              "    </tr>\n",
              "    <tr>\n",
              "      <th>888</th>\n",
              "      <td>NaN</td>\n",
              "      <td>28.0</td>\n",
              "    </tr>\n",
              "  </tbody>\n",
              "</table>\n",
              "<p>177 rows × 2 columns</p>\n",
              "</div>"
            ],
            "text/plain": [
              "     Age  Age_impute_median\n",
              "5    NaN               28.0\n",
              "17   NaN               28.0\n",
              "19   NaN               28.0\n",
              "26   NaN               28.0\n",
              "28   NaN               28.0\n",
              "..   ...                ...\n",
              "859  NaN               28.0\n",
              "863  NaN               28.0\n",
              "868  NaN               28.0\n",
              "878  NaN               28.0\n",
              "888  NaN               28.0\n",
              "\n",
              "[177 rows x 2 columns]"
            ]
          },
          "metadata": {},
          "execution_count": 7
        }
      ]
    },
    {
      "cell_type": "code",
      "metadata": {
        "colab": {
          "base_uri": "https://localhost:8080/",
          "height": 417
        },
        "id": "M8eVLiFYXEAe",
        "outputId": "896eabc1-f600-45fe-8d81-eb9591df20b1"
      },
      "source": [
        "# 5.5 Impute the Missing value through Median\n",
        "titanic_copy = titanic.copy(deep=True)\n",
        "titanic_copy['Age_impute_mode'] = titanic_copy['Age'].fillna(titanic_copy['Age'].mode()[0])\n",
        "\n",
        "# 5.6 Result of Missing value\n",
        "titanic_copy[titanic_copy[\"Age\"].isnull()][['Age','Age_impute_mode']]"
      ],
      "execution_count": 8,
      "outputs": [
        {
          "output_type": "execute_result",
          "data": {
            "text/html": [
              "<div>\n",
              "<style scoped>\n",
              "    .dataframe tbody tr th:only-of-type {\n",
              "        vertical-align: middle;\n",
              "    }\n",
              "\n",
              "    .dataframe tbody tr th {\n",
              "        vertical-align: top;\n",
              "    }\n",
              "\n",
              "    .dataframe thead th {\n",
              "        text-align: right;\n",
              "    }\n",
              "</style>\n",
              "<table border=\"1\" class=\"dataframe\">\n",
              "  <thead>\n",
              "    <tr style=\"text-align: right;\">\n",
              "      <th></th>\n",
              "      <th>Age</th>\n",
              "      <th>Age_impute_mode</th>\n",
              "    </tr>\n",
              "  </thead>\n",
              "  <tbody>\n",
              "    <tr>\n",
              "      <th>5</th>\n",
              "      <td>NaN</td>\n",
              "      <td>24.0</td>\n",
              "    </tr>\n",
              "    <tr>\n",
              "      <th>17</th>\n",
              "      <td>NaN</td>\n",
              "      <td>24.0</td>\n",
              "    </tr>\n",
              "    <tr>\n",
              "      <th>19</th>\n",
              "      <td>NaN</td>\n",
              "      <td>24.0</td>\n",
              "    </tr>\n",
              "    <tr>\n",
              "      <th>26</th>\n",
              "      <td>NaN</td>\n",
              "      <td>24.0</td>\n",
              "    </tr>\n",
              "    <tr>\n",
              "      <th>28</th>\n",
              "      <td>NaN</td>\n",
              "      <td>24.0</td>\n",
              "    </tr>\n",
              "    <tr>\n",
              "      <th>...</th>\n",
              "      <td>...</td>\n",
              "      <td>...</td>\n",
              "    </tr>\n",
              "    <tr>\n",
              "      <th>859</th>\n",
              "      <td>NaN</td>\n",
              "      <td>24.0</td>\n",
              "    </tr>\n",
              "    <tr>\n",
              "      <th>863</th>\n",
              "      <td>NaN</td>\n",
              "      <td>24.0</td>\n",
              "    </tr>\n",
              "    <tr>\n",
              "      <th>868</th>\n",
              "      <td>NaN</td>\n",
              "      <td>24.0</td>\n",
              "    </tr>\n",
              "    <tr>\n",
              "      <th>878</th>\n",
              "      <td>NaN</td>\n",
              "      <td>24.0</td>\n",
              "    </tr>\n",
              "    <tr>\n",
              "      <th>888</th>\n",
              "      <td>NaN</td>\n",
              "      <td>24.0</td>\n",
              "    </tr>\n",
              "  </tbody>\n",
              "</table>\n",
              "<p>177 rows × 2 columns</p>\n",
              "</div>"
            ],
            "text/plain": [
              "     Age  Age_impute_mode\n",
              "5    NaN             24.0\n",
              "17   NaN             24.0\n",
              "19   NaN             24.0\n",
              "26   NaN             24.0\n",
              "28   NaN             24.0\n",
              "..   ...              ...\n",
              "859  NaN             24.0\n",
              "863  NaN             24.0\n",
              "868  NaN             24.0\n",
              "878  NaN             24.0\n",
              "888  NaN             24.0\n",
              "\n",
              "[177 rows x 2 columns]"
            ]
          },
          "metadata": {},
          "execution_count": 8
        }
      ]
    },
    {
      "cell_type": "markdown",
      "metadata": {
        "id": "T6jCJLVHX2Li"
      },
      "source": [
        "### **3. End of the Distribution Imputation :** \n",
        "If there is suspicion that the missing value is not at random then capturing that information is important. In this scenario, one would want to replace missing data with values that are at the tails of the distribution of the variable.\n",
        "\n",
        "$$ Distribution\\ Imputation = \\mu + 3 \\sigma $$\n",
        "\n",
        "![](http://www.mathandstatistics.com/wp-content/uploads/2014/06/Example1EmpiricalGraphNormal.jpg)"
      ]
    },
    {
      "cell_type": "code",
      "metadata": {
        "colab": {
          "base_uri": "https://localhost:8080/",
          "height": 434
        },
        "id": "v3q291DNXNL5",
        "outputId": "0ac3f06f-d6f0-4b2e-ade8-795c1687913d"
      },
      "source": [
        "# 6. End of the distribution imputation\n",
        "titanic_copy = titanic.copy(deep=True)\n",
        "print(f\"Distribution Imputation of Age is : {titanic_copy['Age'].mean() + 3 * titanic_copy['Age'].std()}\")\n",
        "# 6.1 End of the distribution imputation\n",
        "titanic_copy['Age_dist_imp'] = titanic_copy['Age'].fillna(titanic_copy['Age'].mean() + 3 * titanic_copy['Age'].std())\n",
        "\n",
        "# 5.6 Result of Missing value\n",
        "titanic_copy[titanic_copy[\"Age\"].isnull()][['Age','Age_dist_imp']]"
      ],
      "execution_count": 9,
      "outputs": [
        {
          "output_type": "stream",
          "text": [
            "Distribution Imputation of Age is : 73.27860964406095\n"
          ],
          "name": "stdout"
        },
        {
          "output_type": "execute_result",
          "data": {
            "text/html": [
              "<div>\n",
              "<style scoped>\n",
              "    .dataframe tbody tr th:only-of-type {\n",
              "        vertical-align: middle;\n",
              "    }\n",
              "\n",
              "    .dataframe tbody tr th {\n",
              "        vertical-align: top;\n",
              "    }\n",
              "\n",
              "    .dataframe thead th {\n",
              "        text-align: right;\n",
              "    }\n",
              "</style>\n",
              "<table border=\"1\" class=\"dataframe\">\n",
              "  <thead>\n",
              "    <tr style=\"text-align: right;\">\n",
              "      <th></th>\n",
              "      <th>Age</th>\n",
              "      <th>Age_dist_imp</th>\n",
              "    </tr>\n",
              "  </thead>\n",
              "  <tbody>\n",
              "    <tr>\n",
              "      <th>5</th>\n",
              "      <td>NaN</td>\n",
              "      <td>73.27861</td>\n",
              "    </tr>\n",
              "    <tr>\n",
              "      <th>17</th>\n",
              "      <td>NaN</td>\n",
              "      <td>73.27861</td>\n",
              "    </tr>\n",
              "    <tr>\n",
              "      <th>19</th>\n",
              "      <td>NaN</td>\n",
              "      <td>73.27861</td>\n",
              "    </tr>\n",
              "    <tr>\n",
              "      <th>26</th>\n",
              "      <td>NaN</td>\n",
              "      <td>73.27861</td>\n",
              "    </tr>\n",
              "    <tr>\n",
              "      <th>28</th>\n",
              "      <td>NaN</td>\n",
              "      <td>73.27861</td>\n",
              "    </tr>\n",
              "    <tr>\n",
              "      <th>...</th>\n",
              "      <td>...</td>\n",
              "      <td>...</td>\n",
              "    </tr>\n",
              "    <tr>\n",
              "      <th>859</th>\n",
              "      <td>NaN</td>\n",
              "      <td>73.27861</td>\n",
              "    </tr>\n",
              "    <tr>\n",
              "      <th>863</th>\n",
              "      <td>NaN</td>\n",
              "      <td>73.27861</td>\n",
              "    </tr>\n",
              "    <tr>\n",
              "      <th>868</th>\n",
              "      <td>NaN</td>\n",
              "      <td>73.27861</td>\n",
              "    </tr>\n",
              "    <tr>\n",
              "      <th>878</th>\n",
              "      <td>NaN</td>\n",
              "      <td>73.27861</td>\n",
              "    </tr>\n",
              "    <tr>\n",
              "      <th>888</th>\n",
              "      <td>NaN</td>\n",
              "      <td>73.27861</td>\n",
              "    </tr>\n",
              "  </tbody>\n",
              "</table>\n",
              "<p>177 rows × 2 columns</p>\n",
              "</div>"
            ],
            "text/plain": [
              "     Age  Age_dist_imp\n",
              "5    NaN      73.27861\n",
              "17   NaN      73.27861\n",
              "19   NaN      73.27861\n",
              "26   NaN      73.27861\n",
              "28   NaN      73.27861\n",
              "..   ...           ...\n",
              "859  NaN      73.27861\n",
              "863  NaN      73.27861\n",
              "868  NaN      73.27861\n",
              "878  NaN      73.27861\n",
              "888  NaN      73.27861\n",
              "\n",
              "[177 rows x 2 columns]"
            ]
          },
          "metadata": {},
          "execution_count": 9
        }
      ]
    },
    {
      "cell_type": "markdown",
      "metadata": {
        "id": "Q1D1oKSMaytK"
      },
      "source": [
        "### **4. Random Imputation :** \n",
        "replacing the NA by taking a random value from the pool of available observations of that variable"
      ]
    },
    {
      "cell_type": "code",
      "metadata": {
        "colab": {
          "base_uri": "https://localhost:8080/",
          "height": 417
        },
        "id": "2dkjXUX8auWh",
        "outputId": "3f58ce9c-7dc5-4ef0-babe-efd857aa53fb"
      },
      "source": [
        "# 7. Random Imputation\n",
        "titanic_copy = titanic.copy(deep=True)\n",
        "\n",
        "titanic_copy['Age_random'] = titanic_copy[\"Age\"]\n",
        "\n",
        "# 7.1 extract the random sample to fill the na\n",
        "random_sample = titanic_copy['Age'].dropna().sample(titanic_copy['Age'].isnull().sum(), random_state=42)\n",
        "\n",
        "random_sample.index = titanic_copy[titanic_copy['Age'].isnull()].index\n",
        "\n",
        "titanic_copy.loc[titanic_copy['Age'].isnull(), 'Age_random'] = random_sample\n",
        "\n",
        "# 7.2 Result of Missing value\n",
        "titanic_copy[titanic_copy[\"Age\"].isnull()][['Age','Age_random']]"
      ],
      "execution_count": 10,
      "outputs": [
        {
          "output_type": "execute_result",
          "data": {
            "text/html": [
              "<div>\n",
              "<style scoped>\n",
              "    .dataframe tbody tr th:only-of-type {\n",
              "        vertical-align: middle;\n",
              "    }\n",
              "\n",
              "    .dataframe tbody tr th {\n",
              "        vertical-align: top;\n",
              "    }\n",
              "\n",
              "    .dataframe thead th {\n",
              "        text-align: right;\n",
              "    }\n",
              "</style>\n",
              "<table border=\"1\" class=\"dataframe\">\n",
              "  <thead>\n",
              "    <tr style=\"text-align: right;\">\n",
              "      <th></th>\n",
              "      <th>Age</th>\n",
              "      <th>Age_random</th>\n",
              "    </tr>\n",
              "  </thead>\n",
              "  <tbody>\n",
              "    <tr>\n",
              "      <th>5</th>\n",
              "      <td>NaN</td>\n",
              "      <td>42.0</td>\n",
              "    </tr>\n",
              "    <tr>\n",
              "      <th>17</th>\n",
              "      <td>NaN</td>\n",
              "      <td>3.0</td>\n",
              "    </tr>\n",
              "    <tr>\n",
              "      <th>19</th>\n",
              "      <td>NaN</td>\n",
              "      <td>29.0</td>\n",
              "    </tr>\n",
              "    <tr>\n",
              "      <th>26</th>\n",
              "      <td>NaN</td>\n",
              "      <td>24.0</td>\n",
              "    </tr>\n",
              "    <tr>\n",
              "      <th>28</th>\n",
              "      <td>NaN</td>\n",
              "      <td>43.0</td>\n",
              "    </tr>\n",
              "    <tr>\n",
              "      <th>...</th>\n",
              "      <td>...</td>\n",
              "      <td>...</td>\n",
              "    </tr>\n",
              "    <tr>\n",
              "      <th>859</th>\n",
              "      <td>NaN</td>\n",
              "      <td>18.0</td>\n",
              "    </tr>\n",
              "    <tr>\n",
              "      <th>863</th>\n",
              "      <td>NaN</td>\n",
              "      <td>24.0</td>\n",
              "    </tr>\n",
              "    <tr>\n",
              "      <th>868</th>\n",
              "      <td>NaN</td>\n",
              "      <td>4.0</td>\n",
              "    </tr>\n",
              "    <tr>\n",
              "      <th>878</th>\n",
              "      <td>NaN</td>\n",
              "      <td>22.0</td>\n",
              "    </tr>\n",
              "    <tr>\n",
              "      <th>888</th>\n",
              "      <td>NaN</td>\n",
              "      <td>52.0</td>\n",
              "    </tr>\n",
              "  </tbody>\n",
              "</table>\n",
              "<p>177 rows × 2 columns</p>\n",
              "</div>"
            ],
            "text/plain": [
              "     Age  Age_random\n",
              "5    NaN        42.0\n",
              "17   NaN         3.0\n",
              "19   NaN        29.0\n",
              "26   NaN        24.0\n",
              "28   NaN        43.0\n",
              "..   ...         ...\n",
              "859  NaN        18.0\n",
              "863  NaN        24.0\n",
              "868  NaN         4.0\n",
              "878  NaN        22.0\n",
              "888  NaN        52.0\n",
              "\n",
              "[177 rows x 2 columns]"
            ]
          },
          "metadata": {},
          "execution_count": 10
        }
      ]
    },
    {
      "cell_type": "markdown",
      "metadata": {
        "id": "tvNNciMPdlcl"
      },
      "source": [
        "## **Outliers :**\n",
        "* A value that **\"lies outside\"** (is much smaller or larger than) most of the other values in a set of data. \n",
        "* For example in the scores **25,29,3,32,85,33,27,28** both **3 and 85** are **\"outliers\"**.\n",
        "\n",
        "![](https://miro.medium.com/max/697/1*O3lOgPwuHP7Vfc1T6NDRrQ.png)"
      ]
    },
    {
      "cell_type": "code",
      "metadata": {
        "colab": {
          "base_uri": "https://localhost:8080/",
          "height": 265
        },
        "id": "CdVHfN_t3Oy5",
        "outputId": "7c68a827-691e-4c89-8f94-92a7d0ab2fef"
      },
      "source": [
        "sns.scatterplot(x = titanic_copy.index, y = titanic_copy[\"Fare\"])\n",
        "plt.show()"
      ],
      "execution_count": 11,
      "outputs": [
        {
          "output_type": "display_data",
          "data": {
            "image/png": "[encoded data removed]",
            "text/plain": [
              "<Figure size 432x288 with 1 Axes>"
            ]
          },
          "metadata": {
            "needs_background": "light"
          }
        }
      ]
    },
    {
      "cell_type": "markdown",
      "metadata": {
        "id": "yNwM2r345JsY"
      },
      "source": [
        "## Outlier Detection Method"
      ]
    },
    {
      "cell_type": "markdown",
      "metadata": {
        "id": "T7G1JVVjc3Ok"
      },
      "source": [
        "### **1.Detect by arbitrary boundary**\n",
        "* identify outliers based on arbitrary boundaries"
      ]
    },
    {
      "cell_type": "code",
      "metadata": {
        "colab": {
          "base_uri": "https://localhost:8080/",
          "height": 150
        },
        "id": "orMtENDjcjCW",
        "outputId": "3de5c28d-93f3-42f8-8411-4324628e5048"
      },
      "source": [
        "titanic_copy = titanic.copy(deep=True)\n",
        "u_b = 300\n",
        "l_b = 5\n",
        "para = (u_b, l_b)\n",
        "tmp = pd.concat([titanic_copy[\"Fare\"]>u_b,titanic_copy[\"Fare\"]<l_b],axis=1)\n",
        "outlier_index = tmp.any(axis=1)\n",
        "print('Num of outlier detected:',outlier_index.value_counts()[1])\n",
        "print('Proportion of outlier detected',outlier_index.value_counts()[1]/len(outlier_index)) \n",
        "print('Upper bound:',para[0],'\\nLower bound:',para[1])\n",
        "\n",
        "# check the 19 found outliers\n",
        "titanic_copy.loc[outlier_index,'Fare'].sort_values().to_frame().T"
      ],
      "execution_count": 12,
      "outputs": [
        {
          "output_type": "stream",
          "text": [
            "Num of outlier detected: 19\n",
            "Proportion of outlier detected 0.02132435465768799\n",
            "Upper bound: 300 \n",
            "Lower bound: 5\n"
          ],
          "name": "stdout"
        },
        {
          "output_type": "execute_result",
          "data": {
            "text/html": [
              "<div>\n",
              "<style scoped>\n",
              "    .dataframe tbody tr th:only-of-type {\n",
              "        vertical-align: middle;\n",
              "    }\n",
              "\n",
              "    .dataframe tbody tr th {\n",
              "        vertical-align: top;\n",
              "    }\n",
              "\n",
              "    .dataframe thead th {\n",
              "        text-align: right;\n",
              "    }\n",
              "</style>\n",
              "<table border=\"1\" class=\"dataframe\">\n",
              "  <thead>\n",
              "    <tr style=\"text-align: right;\">\n",
              "      <th></th>\n",
              "      <th>179</th>\n",
              "      <th>806</th>\n",
              "      <th>732</th>\n",
              "      <th>674</th>\n",
              "      <th>633</th>\n",
              "      <th>597</th>\n",
              "      <th>815</th>\n",
              "      <th>466</th>\n",
              "      <th>481</th>\n",
              "      <th>302</th>\n",
              "      <th>277</th>\n",
              "      <th>271</th>\n",
              "      <th>263</th>\n",
              "      <th>413</th>\n",
              "      <th>822</th>\n",
              "      <th>378</th>\n",
              "      <th>679</th>\n",
              "      <th>737</th>\n",
              "      <th>258</th>\n",
              "    </tr>\n",
              "  </thead>\n",
              "  <tbody>\n",
              "    <tr>\n",
              "      <th>Fare</th>\n",
              "      <td>0.0</td>\n",
              "      <td>0.0</td>\n",
              "      <td>0.0</td>\n",
              "      <td>0.0</td>\n",
              "      <td>0.0</td>\n",
              "      <td>0.0</td>\n",
              "      <td>0.0</td>\n",
              "      <td>0.0</td>\n",
              "      <td>0.0</td>\n",
              "      <td>0.0</td>\n",
              "      <td>0.0</td>\n",
              "      <td>0.0</td>\n",
              "      <td>0.0</td>\n",
              "      <td>0.0</td>\n",
              "      <td>0.0</td>\n",
              "      <td>4.0125</td>\n",
              "      <td>512.3292</td>\n",
              "      <td>512.3292</td>\n",
              "      <td>512.3292</td>\n",
              "    </tr>\n",
              "  </tbody>\n",
              "</table>\n",
              "</div>"
            ],
            "text/plain": [
              "      179  806  732  674  633  ...  822     378       679       737       258\n",
              "Fare  0.0  0.0  0.0  0.0  0.0  ...  0.0  4.0125  512.3292  512.3292  512.3292\n",
              "\n",
              "[1 rows x 19 columns]"
            ]
          },
          "metadata": {},
          "execution_count": 12
        }
      ]
    },
    {
      "cell_type": "markdown",
      "metadata": {
        "id": "_qZIogZj6E1A"
      },
      "source": [
        "### **2.IQR method**\n",
        "* outlier detection by Interquartile Ranges Rule\n",
        "![](https://miro.medium.com/max/1400/1*2c21SkzJMf3frPXPAR_gZA.png)"
      ]
    },
    {
      "cell_type": "code",
      "metadata": {
        "colab": {
          "base_uri": "https://localhost:8080/",
          "height": 135
        },
        "id": "JAuhBIMz4yPK",
        "outputId": "49e7266b-e188-4a91-b15e-09390efb956d"
      },
      "source": [
        "titanic_copy = titanic.copy(deep=True)\n",
        "col = \"Fare\"\n",
        "threshold = 5\n",
        "\n",
        "IQR = titanic_copy[col].quantile(0.75) - titanic_copy[col].quantile(0.25)\n",
        "\n",
        "Lower_fence = titanic_copy[col].quantile(0.25) - (IQR * threshold)\n",
        "Upper_fence = titanic_copy[col].quantile(0.75) + (IQR * threshold)\n",
        "para = (Upper_fence, Lower_fence)\n",
        "\n",
        "tmp = pd.concat([titanic_copy[col]>Upper_fence,titanic_copy[col]<Lower_fence],axis=1)\n",
        "outlier_index = tmp.any(axis=1)\n",
        "\n",
        "print('Num of outlier detected:',outlier_index.value_counts()[1])\n",
        "print('Proportion of outlier detected',outlier_index.value_counts()[1]/len(outlier_index))\n",
        "\n",
        "# check the 31 found outliers\n",
        "titanic_copy.loc[outlier_index,'Fare'].sort_values().to_frame().T"
      ],
      "execution_count": 13,
      "outputs": [
        {
          "output_type": "stream",
          "text": [
            "Num of outlier detected: 31\n",
            "Proportion of outlier detected 0.03479236812570146\n"
          ],
          "name": "stdout"
        },
        {
          "output_type": "execute_result",
          "data": {
            "text/html": [
              "<div>\n",
              "<style scoped>\n",
              "    .dataframe tbody tr th:only-of-type {\n",
              "        vertical-align: middle;\n",
              "    }\n",
              "\n",
              "    .dataframe tbody tr th {\n",
              "        vertical-align: top;\n",
              "    }\n",
              "\n",
              "    .dataframe thead th {\n",
              "        text-align: right;\n",
              "    }\n",
              "</style>\n",
              "<table border=\"1\" class=\"dataframe\">\n",
              "  <thead>\n",
              "    <tr style=\"text-align: right;\">\n",
              "      <th></th>\n",
              "      <th>31</th>\n",
              "      <th>195</th>\n",
              "      <th>305</th>\n",
              "      <th>708</th>\n",
              "      <th>297</th>\n",
              "      <th>498</th>\n",
              "      <th>609</th>\n",
              "      <th>332</th>\n",
              "      <th>268</th>\n",
              "      <th>318</th>\n",
              "      <th>856</th>\n",
              "      <th>730</th>\n",
              "      <th>779</th>\n",
              "      <th>689</th>\n",
              "      <th>377</th>\n",
              "      <th>527</th>\n",
              "      <th>700</th>\n",
              "      <th>716</th>\n",
              "      <th>557</th>\n",
              "      <th>380</th>\n",
              "      <th>299</th>\n",
              "      <th>118</th>\n",
              "      <th>311</th>\n",
              "      <th>742</th>\n",
              "      <th>341</th>\n",
              "      <th>88</th>\n",
              "      <th>438</th>\n",
              "      <th>27</th>\n",
              "      <th>679</th>\n",
              "      <th>258</th>\n",
              "      <th>737</th>\n",
              "    </tr>\n",
              "  </thead>\n",
              "  <tbody>\n",
              "    <tr>\n",
              "      <th>Fare</th>\n",
              "      <td>146.5208</td>\n",
              "      <td>146.5208</td>\n",
              "      <td>151.55</td>\n",
              "      <td>151.55</td>\n",
              "      <td>151.55</td>\n",
              "      <td>151.55</td>\n",
              "      <td>153.4625</td>\n",
              "      <td>153.4625</td>\n",
              "      <td>153.4625</td>\n",
              "      <td>164.8667</td>\n",
              "      <td>164.8667</td>\n",
              "      <td>211.3375</td>\n",
              "      <td>211.3375</td>\n",
              "      <td>211.3375</td>\n",
              "      <td>211.5</td>\n",
              "      <td>221.7792</td>\n",
              "      <td>227.525</td>\n",
              "      <td>227.525</td>\n",
              "      <td>227.525</td>\n",
              "      <td>227.525</td>\n",
              "      <td>247.5208</td>\n",
              "      <td>247.5208</td>\n",
              "      <td>262.375</td>\n",
              "      <td>262.375</td>\n",
              "      <td>263.0</td>\n",
              "      <td>263.0</td>\n",
              "      <td>263.0</td>\n",
              "      <td>263.0</td>\n",
              "      <td>512.3292</td>\n",
              "      <td>512.3292</td>\n",
              "      <td>512.3292</td>\n",
              "    </tr>\n",
              "  </tbody>\n",
              "</table>\n",
              "</div>"
            ],
            "text/plain": [
              "           31        195     305     708  ...    27        679       258       737\n",
              "Fare  146.5208  146.5208  151.55  151.55  ...  263.0  512.3292  512.3292  512.3292\n",
              "\n",
              "[1 rows x 31 columns]"
            ]
          },
          "metadata": {},
          "execution_count": 13
        }
      ]
    },
    {
      "cell_type": "markdown",
      "metadata": {
        "id": "WAC3J6fSahpx"
      },
      "source": [
        "### **3.Windsorization**\n",
        "* top-coding & bottom coding (capping the maximum of a distribution at an arbitrarily set value, vice versa).\n",
        "* Winsorization is a way to minimize the influence of outliers in your data by either:\n",
        "    1. Assigning the outlier a lower weight,\n",
        "    2. Changing the value so that it is close to other values in the set."
      ]
    },
    {
      "cell_type": "code",
      "metadata": {
        "colab": {
          "base_uri": "https://localhost:8080/",
          "height": 150
        },
        "id": "yC-kf7FWbg5u",
        "outputId": "2c13f824-fc62-4a96-e717-768920f1166a"
      },
      "source": [
        "# Arbitory outlier detection\n",
        "titanic_copy = titanic.copy(deep=True)\n",
        "u_b = 300\n",
        "l_b = 5\n",
        "para = (u_b, l_b)\n",
        "tmp = pd.concat([titanic_copy[\"Fare\"]>u_b,titanic_copy[\"Fare\"]<l_b],axis=1)\n",
        "outlier_index = tmp.any(axis=1)\n",
        "print('Num of outlier detected:',outlier_index.value_counts()[1])\n",
        "print('Proportion of outlier detected',outlier_index.value_counts()[1]/len(outlier_index)) \n",
        "print('Upper bound:',para[0],'\\nLower bound:',para[1])\n",
        "\n",
        "# check the 19 found outliers\n",
        "titanic_copy.loc[outlier_index,'Fare'].sort_values().to_frame().T"
      ],
      "execution_count": 20,
      "outputs": [
        {
          "output_type": "stream",
          "text": [
            "Num of outlier detected: 19\n",
            "Proportion of outlier detected 0.02132435465768799\n",
            "Upper bound: 300 \n",
            "Lower bound: 5\n"
          ],
          "name": "stdout"
        },
        {
          "output_type": "execute_result",
          "data": {
            "text/html": [
              "<div>\n",
              "<style scoped>\n",
              "    .dataframe tbody tr th:only-of-type {\n",
              "        vertical-align: middle;\n",
              "    }\n",
              "\n",
              "    .dataframe tbody tr th {\n",
              "        vertical-align: top;\n",
              "    }\n",
              "\n",
              "    .dataframe thead th {\n",
              "        text-align: right;\n",
              "    }\n",
              "</style>\n",
              "<table border=\"1\" class=\"dataframe\">\n",
              "  <thead>\n",
              "    <tr style=\"text-align: right;\">\n",
              "      <th></th>\n",
              "      <th>179</th>\n",
              "      <th>806</th>\n",
              "      <th>732</th>\n",
              "      <th>674</th>\n",
              "      <th>633</th>\n",
              "      <th>597</th>\n",
              "      <th>815</th>\n",
              "      <th>466</th>\n",
              "      <th>481</th>\n",
              "      <th>302</th>\n",
              "      <th>277</th>\n",
              "      <th>271</th>\n",
              "      <th>263</th>\n",
              "      <th>413</th>\n",
              "      <th>822</th>\n",
              "      <th>378</th>\n",
              "      <th>679</th>\n",
              "      <th>737</th>\n",
              "      <th>258</th>\n",
              "    </tr>\n",
              "  </thead>\n",
              "  <tbody>\n",
              "    <tr>\n",
              "      <th>Fare</th>\n",
              "      <td>0.0</td>\n",
              "      <td>0.0</td>\n",
              "      <td>0.0</td>\n",
              "      <td>0.0</td>\n",
              "      <td>0.0</td>\n",
              "      <td>0.0</td>\n",
              "      <td>0.0</td>\n",
              "      <td>0.0</td>\n",
              "      <td>0.0</td>\n",
              "      <td>0.0</td>\n",
              "      <td>0.0</td>\n",
              "      <td>0.0</td>\n",
              "      <td>0.0</td>\n",
              "      <td>0.0</td>\n",
              "      <td>0.0</td>\n",
              "      <td>4.0125</td>\n",
              "      <td>512.3292</td>\n",
              "      <td>512.3292</td>\n",
              "      <td>512.3292</td>\n",
              "    </tr>\n",
              "  </tbody>\n",
              "</table>\n",
              "</div>"
            ],
            "text/plain": [
              "      179  806  732  674  633  ...  822     378       679       737       258\n",
              "Fare  0.0  0.0  0.0  0.0  0.0  ...  0.0  4.0125  512.3292  512.3292  512.3292\n",
              "\n",
              "[1 rows x 19 columns]"
            ]
          },
          "metadata": {},
          "execution_count": 20
        }
      ]
    },
    {
      "cell_type": "code",
      "metadata": {
        "colab": {
          "base_uri": "https://localhost:8080/",
          "height": 665
        },
        "id": "wy2YNHRZboIc",
        "outputId": "5688adc8-a766-4455-b0f0-1d3ea6217e99"
      },
      "source": [
        "# see index 258,263,271 have been replaced with top/bottom coding\n",
        "col = 'Fare'\n",
        "strategy = 'both'\n",
        "if strategy == 'both':\n",
        "    titanic_copy.loc[titanic_copy[col]>para[0],col] = para[0]\n",
        "    titanic_copy.loc[titanic_copy[col]<para[1],col] = para[1]\n",
        "elif strategy == 'top':\n",
        "    titanic_copy.loc[titanic_copy[col]>para[0],col] = para[0]\n",
        "elif strategy == 'bottom':\n",
        "    titanic_copy.loc[titanic_copy[col]<para[1],col] = para[1]\n",
        "\n",
        "titanic_copy[255:275]"
      ],
      "execution_count": 21,
      "outputs": [
        {
          "output_type": "execute_result",
          "data": {
            "text/html": [
              "<div>\n",
              "<style scoped>\n",
              "    .dataframe tbody tr th:only-of-type {\n",
              "        vertical-align: middle;\n",
              "    }\n",
              "\n",
              "    .dataframe tbody tr th {\n",
              "        vertical-align: top;\n",
              "    }\n",
              "\n",
              "    .dataframe thead th {\n",
              "        text-align: right;\n",
              "    }\n",
              "</style>\n",
              "<table border=\"1\" class=\"dataframe\">\n",
              "  <thead>\n",
              "    <tr style=\"text-align: right;\">\n",
              "      <th></th>\n",
              "      <th>Survived</th>\n",
              "      <th>Pclass</th>\n",
              "      <th>Sex</th>\n",
              "      <th>Age</th>\n",
              "      <th>SibSp</th>\n",
              "      <th>Fare</th>\n",
              "    </tr>\n",
              "  </thead>\n",
              "  <tbody>\n",
              "    <tr>\n",
              "      <th>255</th>\n",
              "      <td>1</td>\n",
              "      <td>3</td>\n",
              "      <td>female</td>\n",
              "      <td>29.0</td>\n",
              "      <td>0</td>\n",
              "      <td>15.2458</td>\n",
              "    </tr>\n",
              "    <tr>\n",
              "      <th>256</th>\n",
              "      <td>1</td>\n",
              "      <td>1</td>\n",
              "      <td>female</td>\n",
              "      <td>NaN</td>\n",
              "      <td>0</td>\n",
              "      <td>79.2000</td>\n",
              "    </tr>\n",
              "    <tr>\n",
              "      <th>257</th>\n",
              "      <td>1</td>\n",
              "      <td>1</td>\n",
              "      <td>female</td>\n",
              "      <td>30.0</td>\n",
              "      <td>0</td>\n",
              "      <td>86.5000</td>\n",
              "    </tr>\n",
              "    <tr>\n",
              "      <th>258</th>\n",
              "      <td>1</td>\n",
              "      <td>1</td>\n",
              "      <td>female</td>\n",
              "      <td>35.0</td>\n",
              "      <td>0</td>\n",
              "      <td>300.0000</td>\n",
              "    </tr>\n",
              "    <tr>\n",
              "      <th>259</th>\n",
              "      <td>1</td>\n",
              "      <td>2</td>\n",
              "      <td>female</td>\n",
              "      <td>50.0</td>\n",
              "      <td>0</td>\n",
              "      <td>26.0000</td>\n",
              "    </tr>\n",
              "    <tr>\n",
              "      <th>260</th>\n",
              "      <td>0</td>\n",
              "      <td>3</td>\n",
              "      <td>male</td>\n",
              "      <td>NaN</td>\n",
              "      <td>0</td>\n",
              "      <td>7.7500</td>\n",
              "    </tr>\n",
              "    <tr>\n",
              "      <th>261</th>\n",
              "      <td>1</td>\n",
              "      <td>3</td>\n",
              "      <td>male</td>\n",
              "      <td>3.0</td>\n",
              "      <td>4</td>\n",
              "      <td>31.3875</td>\n",
              "    </tr>\n",
              "    <tr>\n",
              "      <th>262</th>\n",
              "      <td>0</td>\n",
              "      <td>1</td>\n",
              "      <td>male</td>\n",
              "      <td>52.0</td>\n",
              "      <td>1</td>\n",
              "      <td>79.6500</td>\n",
              "    </tr>\n",
              "    <tr>\n",
              "      <th>263</th>\n",
              "      <td>0</td>\n",
              "      <td>1</td>\n",
              "      <td>male</td>\n",
              "      <td>40.0</td>\n",
              "      <td>0</td>\n",
              "      <td>5.0000</td>\n",
              "    </tr>\n",
              "    <tr>\n",
              "      <th>264</th>\n",
              "      <td>0</td>\n",
              "      <td>3</td>\n",
              "      <td>female</td>\n",
              "      <td>NaN</td>\n",
              "      <td>0</td>\n",
              "      <td>7.7500</td>\n",
              "    </tr>\n",
              "    <tr>\n",
              "      <th>265</th>\n",
              "      <td>0</td>\n",
              "      <td>2</td>\n",
              "      <td>male</td>\n",
              "      <td>36.0</td>\n",
              "      <td>0</td>\n",
              "      <td>10.5000</td>\n",
              "    </tr>\n",
              "    <tr>\n",
              "      <th>266</th>\n",
              "      <td>0</td>\n",
              "      <td>3</td>\n",
              "      <td>male</td>\n",
              "      <td>16.0</td>\n",
              "      <td>4</td>\n",
              "      <td>39.6875</td>\n",
              "    </tr>\n",
              "    <tr>\n",
              "      <th>267</th>\n",
              "      <td>1</td>\n",
              "      <td>3</td>\n",
              "      <td>male</td>\n",
              "      <td>25.0</td>\n",
              "      <td>1</td>\n",
              "      <td>7.7750</td>\n",
              "    </tr>\n",
              "    <tr>\n",
              "      <th>268</th>\n",
              "      <td>1</td>\n",
              "      <td>1</td>\n",
              "      <td>female</td>\n",
              "      <td>58.0</td>\n",
              "      <td>0</td>\n",
              "      <td>153.4625</td>\n",
              "    </tr>\n",
              "    <tr>\n",
              "      <th>269</th>\n",
              "      <td>1</td>\n",
              "      <td>1</td>\n",
              "      <td>female</td>\n",
              "      <td>35.0</td>\n",
              "      <td>0</td>\n",
              "      <td>135.6333</td>\n",
              "    </tr>\n",
              "    <tr>\n",
              "      <th>270</th>\n",
              "      <td>0</td>\n",
              "      <td>1</td>\n",
              "      <td>male</td>\n",
              "      <td>NaN</td>\n",
              "      <td>0</td>\n",
              "      <td>31.0000</td>\n",
              "    </tr>\n",
              "    <tr>\n",
              "      <th>271</th>\n",
              "      <td>1</td>\n",
              "      <td>3</td>\n",
              "      <td>male</td>\n",
              "      <td>25.0</td>\n",
              "      <td>0</td>\n",
              "      <td>5.0000</td>\n",
              "    </tr>\n",
              "    <tr>\n",
              "      <th>272</th>\n",
              "      <td>1</td>\n",
              "      <td>2</td>\n",
              "      <td>female</td>\n",
              "      <td>41.0</td>\n",
              "      <td>0</td>\n",
              "      <td>19.5000</td>\n",
              "    </tr>\n",
              "    <tr>\n",
              "      <th>273</th>\n",
              "      <td>0</td>\n",
              "      <td>1</td>\n",
              "      <td>male</td>\n",
              "      <td>37.0</td>\n",
              "      <td>0</td>\n",
              "      <td>29.7000</td>\n",
              "    </tr>\n",
              "    <tr>\n",
              "      <th>274</th>\n",
              "      <td>1</td>\n",
              "      <td>3</td>\n",
              "      <td>female</td>\n",
              "      <td>NaN</td>\n",
              "      <td>0</td>\n",
              "      <td>7.7500</td>\n",
              "    </tr>\n",
              "  </tbody>\n",
              "</table>\n",
              "</div>"
            ],
            "text/plain": [
              "     Survived  Pclass     Sex   Age  SibSp      Fare\n",
              "255         1       3  female  29.0      0   15.2458\n",
              "256         1       1  female   NaN      0   79.2000\n",
              "257         1       1  female  30.0      0   86.5000\n",
              "258         1       1  female  35.0      0  300.0000\n",
              "259         1       2  female  50.0      0   26.0000\n",
              "260         0       3    male   NaN      0    7.7500\n",
              "261         1       3    male   3.0      4   31.3875\n",
              "262         0       1    male  52.0      1   79.6500\n",
              "263         0       1    male  40.0      0    5.0000\n",
              "264         0       3  female   NaN      0    7.7500\n",
              "265         0       2    male  36.0      0   10.5000\n",
              "266         0       3    male  16.0      4   39.6875\n",
              "267         1       3    male  25.0      1    7.7750\n",
              "268         1       1  female  58.0      0  153.4625\n",
              "269         1       1  female  35.0      0  135.6333\n",
              "270         0       1    male   NaN      0   31.0000\n",
              "271         1       3    male  25.0      0    5.0000\n",
              "272         1       2  female  41.0      0   19.5000\n",
              "273         0       1    male  37.0      0   29.7000\n",
              "274         1       3  female   NaN      0    7.7500"
            ]
          },
          "metadata": {},
          "execution_count": 21
        }
      ]
    },
    {
      "cell_type": "markdown",
      "metadata": {
        "id": "Pa0Hew6r7UjQ"
      },
      "source": [
        "## Outlier Handling Methods"
      ]
    },
    {
      "cell_type": "markdown",
      "metadata": {
        "id": "yIWC8-H1c8zF"
      },
      "source": [
        "### **1.Mean Median Mode Imputation Outlier Method**\n",
        "* replacing the outlier by mean/median/most frequent values of that variable\n",
        "* This is similar like we did imputation for missing value we replace outlier value with mean median mode value"
      ]
    },
    {
      "cell_type": "code",
      "metadata": {
        "colab": {
          "base_uri": "https://localhost:8080/",
          "height": 150
        },
        "id": "wcBi2wnd65ac",
        "outputId": "cfa1045d-3808-43ad-e6ee-563a23258d54"
      },
      "source": [
        "# Arbitary Outlier Detection method\n",
        "titanic_copy = titanic.copy(deep=True)\n",
        "u_b = 300\n",
        "l_b = 5\n",
        "para = (u_b, l_b)\n",
        "tmp = pd.concat([titanic_copy[\"Fare\"]>u_b,titanic_copy[\"Fare\"]<l_b],axis=1)\n",
        "outlier_index = tmp.any(axis=1)\n",
        "print('Num of outlier detected:',outlier_index.value_counts()[1])\n",
        "print('Proportion of outlier detected',outlier_index.value_counts()[1]/len(outlier_index)) \n",
        "print('Upper bound:',para[0],'\\nLower bound:',para[1])\n",
        "\n",
        "# check the 19 found outliers\n",
        "titanic_copy.loc[outlier_index,'Fare'].sort_values().to_frame().T"
      ],
      "execution_count": 18,
      "outputs": [
        {
          "output_type": "stream",
          "text": [
            "Num of outlier detected: 19\n",
            "Proportion of outlier detected 0.02132435465768799\n",
            "Upper bound: 300 \n",
            "Lower bound: 5\n"
          ],
          "name": "stdout"
        },
        {
          "output_type": "execute_result",
          "data": {
            "text/html": [
              "<div>\n",
              "<style scoped>\n",
              "    .dataframe tbody tr th:only-of-type {\n",
              "        vertical-align: middle;\n",
              "    }\n",
              "\n",
              "    .dataframe tbody tr th {\n",
              "        vertical-align: top;\n",
              "    }\n",
              "\n",
              "    .dataframe thead th {\n",
              "        text-align: right;\n",
              "    }\n",
              "</style>\n",
              "<table border=\"1\" class=\"dataframe\">\n",
              "  <thead>\n",
              "    <tr style=\"text-align: right;\">\n",
              "      <th></th>\n",
              "      <th>179</th>\n",
              "      <th>806</th>\n",
              "      <th>732</th>\n",
              "      <th>674</th>\n",
              "      <th>633</th>\n",
              "      <th>597</th>\n",
              "      <th>815</th>\n",
              "      <th>466</th>\n",
              "      <th>481</th>\n",
              "      <th>302</th>\n",
              "      <th>277</th>\n",
              "      <th>271</th>\n",
              "      <th>263</th>\n",
              "      <th>413</th>\n",
              "      <th>822</th>\n",
              "      <th>378</th>\n",
              "      <th>679</th>\n",
              "      <th>737</th>\n",
              "      <th>258</th>\n",
              "    </tr>\n",
              "  </thead>\n",
              "  <tbody>\n",
              "    <tr>\n",
              "      <th>Fare</th>\n",
              "      <td>0.0</td>\n",
              "      <td>0.0</td>\n",
              "      <td>0.0</td>\n",
              "      <td>0.0</td>\n",
              "      <td>0.0</td>\n",
              "      <td>0.0</td>\n",
              "      <td>0.0</td>\n",
              "      <td>0.0</td>\n",
              "      <td>0.0</td>\n",
              "      <td>0.0</td>\n",
              "      <td>0.0</td>\n",
              "      <td>0.0</td>\n",
              "      <td>0.0</td>\n",
              "      <td>0.0</td>\n",
              "      <td>0.0</td>\n",
              "      <td>4.0125</td>\n",
              "      <td>512.3292</td>\n",
              "      <td>512.3292</td>\n",
              "      <td>512.3292</td>\n",
              "    </tr>\n",
              "  </tbody>\n",
              "</table>\n",
              "</div>"
            ],
            "text/plain": [
              "      179  806  732  674  633  ...  822     378       679       737       258\n",
              "Fare  0.0  0.0  0.0  0.0  0.0  ...  0.0  4.0125  512.3292  512.3292  512.3292\n",
              "\n",
              "[1 rows x 19 columns]"
            ]
          },
          "metadata": {},
          "execution_count": 18
        }
      ]
    },
    {
      "cell_type": "code",
      "metadata": {
        "id": "d_6WIMEr8TYT"
      },
      "source": [
        "strategy = \"mean\"\n",
        "col = \"Fare\"\n",
        "if strategy=='mean':\n",
        "    titanic_copy.loc[outlier_index,col] = titanic_copy[col].mean()\n",
        "elif strategy=='median':\n",
        "    titanic_copy.loc[outlier_index,col] = titanic_copy[col].median()\n",
        "elif strategy=='mode':\n",
        "    titanic_copy.loc[outlier_index,col] = titanic_copy[col].mode()[0]"
      ],
      "execution_count": 16,
      "outputs": []
    },
    {
      "cell_type": "code",
      "metadata": {
        "colab": {
          "base_uri": "https://localhost:8080/"
        },
        "id": "lJmdO-PBZQSe",
        "outputId": "81a8967b-a675-4447-cbf0-9378e0eb5295"
      },
      "source": [
        "titanic_copy[255:275]"
      ],
      "execution_count": 19,
      "outputs": [
        {
          "output_type": "execute_result",
          "data": {
            "text/plain": [
              "0       7.2500\n",
              "1      71.2833\n",
              "2       7.9250\n",
              "3      53.1000\n",
              "4       8.0500\n",
              "        ...   \n",
              "886    13.0000\n",
              "887    30.0000\n",
              "888    23.4500\n",
              "889    30.0000\n",
              "890     7.7500\n",
              "Name: Fare, Length: 891, dtype: float64"
            ]
          },
          "metadata": {},
          "execution_count": 19
        }
      ]
    },
    {
      "cell_type": "markdown",
      "metadata": {
        "id": "pCG6YQnacmE-"
      },
      "source": [
        "## Feature Scaling"
      ]
    },
    {
      "cell_type": "markdown",
      "metadata": {
        "id": "p6Cr73Z8dgfh"
      },
      "source": [
        "### **1.Normalization and Standarization**\n",
        "\n",
        "**Normalization :** Normalization rescales the values into a range of [0,1]. This might be useful in some cases where all parameters need to have the same positive scale. However, the outliers from the data set are lost.\n",
        "\n",
        "\n",
        "$$ Z_{Normalization} = \\frac{X - X_{min}}{X_{max}-X_{min}}\n",
        "$$\n",
        "* Normalization is good to use when you know that the distribution of your data does not follow a Gaussian distribution.\n",
        "* Normalization typically means rescales the values into a range of [0,1]. \n",
        "\n",
        "**Standardization :**  rescales data to have a mean (μ) of 0 and standard deviation (σ) of 1 (unit variance).\n",
        "\n",
        "$$ X_{Scaled} = \\frac{X - \\mu}{\\sigma}\n",
        "$$\n",
        "* Standardization, on the other hand, can be helpful in cases where the data follows a Gaussian distribution.\n",
        "* Standardization typically means rescales data to have a mean of 0 and a standard deviation of 1 (unit variance)."
      ]
    },
    {
      "cell_type": "code",
      "metadata": {
        "colab": {
          "base_uri": "https://localhost:8080/",
          "height": 142
        },
        "id": "4ae0sypAe3hv",
        "outputId": "3f1a6895-ff7b-4d35-ad9b-486254d69e06"
      },
      "source": [
        "titanic.head(3)"
      ],
      "execution_count": 22,
      "outputs": [
        {
          "output_type": "execute_result",
          "data": {
            "text/html": [
              "<div>\n",
              "<style scoped>\n",
              "    .dataframe tbody tr th:only-of-type {\n",
              "        vertical-align: middle;\n",
              "    }\n",
              "\n",
              "    .dataframe tbody tr th {\n",
              "        vertical-align: top;\n",
              "    }\n",
              "\n",
              "    .dataframe thead th {\n",
              "        text-align: right;\n",
              "    }\n",
              "</style>\n",
              "<table border=\"1\" class=\"dataframe\">\n",
              "  <thead>\n",
              "    <tr style=\"text-align: right;\">\n",
              "      <th></th>\n",
              "      <th>Survived</th>\n",
              "      <th>Pclass</th>\n",
              "      <th>Sex</th>\n",
              "      <th>Age</th>\n",
              "      <th>SibSp</th>\n",
              "      <th>Fare</th>\n",
              "    </tr>\n",
              "  </thead>\n",
              "  <tbody>\n",
              "    <tr>\n",
              "      <th>0</th>\n",
              "      <td>0</td>\n",
              "      <td>3</td>\n",
              "      <td>male</td>\n",
              "      <td>22.0</td>\n",
              "      <td>1</td>\n",
              "      <td>7.2500</td>\n",
              "    </tr>\n",
              "    <tr>\n",
              "      <th>1</th>\n",
              "      <td>1</td>\n",
              "      <td>1</td>\n",
              "      <td>female</td>\n",
              "      <td>38.0</td>\n",
              "      <td>1</td>\n",
              "      <td>71.2833</td>\n",
              "    </tr>\n",
              "    <tr>\n",
              "      <th>2</th>\n",
              "      <td>1</td>\n",
              "      <td>3</td>\n",
              "      <td>female</td>\n",
              "      <td>26.0</td>\n",
              "      <td>0</td>\n",
              "      <td>7.9250</td>\n",
              "    </tr>\n",
              "  </tbody>\n",
              "</table>\n",
              "</div>"
            ],
            "text/plain": [
              "   Survived  Pclass     Sex   Age  SibSp     Fare\n",
              "0         0       3    male  22.0      1   7.2500\n",
              "1         1       1  female  38.0      1  71.2833\n",
              "2         1       3  female  26.0      0   7.9250"
            ]
          },
          "metadata": {},
          "execution_count": 22
        }
      ]
    },
    {
      "cell_type": "markdown",
      "metadata": {
        "id": "QfvtF0jDfSNW"
      },
      "source": [
        "#### **Train Test Split**"
      ]
    },
    {
      "cell_type": "markdown",
      "metadata": {
        "id": "APObA7nWfOVQ"
      },
      "source": [
        "![](https://d1m75rqqgidzqn.cloudfront.net/wp-data/2020/07/15185319/blogs-15-7-2020-02-1024x565.jpg)"
      ]
    },
    {
      "cell_type": "code",
      "metadata": {
        "colab": {
          "base_uri": "https://localhost:8080/"
        },
        "id": "_QoUJBYsZj5I",
        "outputId": "2bf89ef5-a81c-4f21-f9a0-19eb305368d6"
      },
      "source": [
        "from sklearn.model_selection import train_test_split\n",
        "titanic_copy = titanic.copy(deep=True)\n",
        "\n",
        "# Note that we include target variable in the X_train because we need it to supervise our discretization\n",
        "# this is not the standard way of using train-test-split\n",
        "\n",
        "X_train, X_test, y_train, y_test = train_test_split(titanic_copy, titanic_copy.Survived, test_size=0.3, random_state=0)\n",
        "X_train.shape, X_test.shape"
      ],
      "execution_count": 24,
      "outputs": [
        {
          "output_type": "execute_result",
          "data": {
            "text/plain": [
              "((623, 6), (268, 6))"
            ]
          },
          "metadata": {},
          "execution_count": 24
        }
      ]
    },
    {
      "cell_type": "code",
      "metadata": {
        "colab": {
          "base_uri": "https://localhost:8080/",
          "height": 234
        },
        "id": "-O1-XNuefA1D",
        "outputId": "0f4a3c8b-3f81-414b-ffab-4ce2136fa34c"
      },
      "source": [
        "# add the new created feature\n",
        "from sklearn.preprocessing import StandardScaler\n",
        "ss = StandardScaler().fit(X_train[['Fare']])\n",
        "X_train_copy = X_train.copy(deep=True)\n",
        "X_train_copy['Fare_zscore'] = ss.transform(X_train_copy[['Fare']])\n",
        "X_train_copy.head(6)"
      ],
      "execution_count": 26,
      "outputs": [
        {
          "output_type": "execute_result",
          "data": {
            "text/html": [
              "<div>\n",
              "<style scoped>\n",
              "    .dataframe tbody tr th:only-of-type {\n",
              "        vertical-align: middle;\n",
              "    }\n",
              "\n",
              "    .dataframe tbody tr th {\n",
              "        vertical-align: top;\n",
              "    }\n",
              "\n",
              "    .dataframe thead th {\n",
              "        text-align: right;\n",
              "    }\n",
              "</style>\n",
              "<table border=\"1\" class=\"dataframe\">\n",
              "  <thead>\n",
              "    <tr style=\"text-align: right;\">\n",
              "      <th></th>\n",
              "      <th>Survived</th>\n",
              "      <th>Pclass</th>\n",
              "      <th>Sex</th>\n",
              "      <th>Age</th>\n",
              "      <th>SibSp</th>\n",
              "      <th>Fare</th>\n",
              "      <th>Fare_zscore</th>\n",
              "    </tr>\n",
              "  </thead>\n",
              "  <tbody>\n",
              "    <tr>\n",
              "      <th>857</th>\n",
              "      <td>1</td>\n",
              "      <td>1</td>\n",
              "      <td>male</td>\n",
              "      <td>51.0</td>\n",
              "      <td>0</td>\n",
              "      <td>26.5500</td>\n",
              "      <td>-0.122530</td>\n",
              "    </tr>\n",
              "    <tr>\n",
              "      <th>52</th>\n",
              "      <td>1</td>\n",
              "      <td>1</td>\n",
              "      <td>female</td>\n",
              "      <td>49.0</td>\n",
              "      <td>1</td>\n",
              "      <td>76.7292</td>\n",
              "      <td>0.918124</td>\n",
              "    </tr>\n",
              "    <tr>\n",
              "      <th>386</th>\n",
              "      <td>0</td>\n",
              "      <td>3</td>\n",
              "      <td>male</td>\n",
              "      <td>1.0</td>\n",
              "      <td>5</td>\n",
              "      <td>46.9000</td>\n",
              "      <td>0.299503</td>\n",
              "    </tr>\n",
              "    <tr>\n",
              "      <th>124</th>\n",
              "      <td>0</td>\n",
              "      <td>1</td>\n",
              "      <td>male</td>\n",
              "      <td>54.0</td>\n",
              "      <td>0</td>\n",
              "      <td>77.2875</td>\n",
              "      <td>0.929702</td>\n",
              "    </tr>\n",
              "    <tr>\n",
              "      <th>578</th>\n",
              "      <td>0</td>\n",
              "      <td>3</td>\n",
              "      <td>female</td>\n",
              "      <td>NaN</td>\n",
              "      <td>1</td>\n",
              "      <td>14.4583</td>\n",
              "      <td>-0.373297</td>\n",
              "    </tr>\n",
              "    <tr>\n",
              "      <th>549</th>\n",
              "      <td>1</td>\n",
              "      <td>2</td>\n",
              "      <td>male</td>\n",
              "      <td>8.0</td>\n",
              "      <td>1</td>\n",
              "      <td>36.7500</td>\n",
              "      <td>0.089005</td>\n",
              "    </tr>\n",
              "  </tbody>\n",
              "</table>\n",
              "</div>"
            ],
            "text/plain": [
              "     Survived  Pclass     Sex   Age  SibSp     Fare  Fare_zscore\n",
              "857         1       1    male  51.0      0  26.5500    -0.122530\n",
              "52          1       1  female  49.0      1  76.7292     0.918124\n",
              "386         0       3    male   1.0      5  46.9000     0.299503\n",
              "124         0       1    male  54.0      0  77.2875     0.929702\n",
              "578         0       3  female   NaN      1  14.4583    -0.373297\n",
              "549         1       2    male   8.0      1  36.7500     0.089005"
            ]
          },
          "metadata": {},
          "execution_count": 26
        }
      ]
    },
    {
      "cell_type": "code",
      "metadata": {
        "colab": {
          "base_uri": "https://localhost:8080/"
        },
        "id": "VoS8znz1f1H5",
        "outputId": "12ad3da2-7ce4-4687-ea64-e0bc5f81555f"
      },
      "source": [
        "# check if it is with mean=0 std=1\n",
        "print(X_train_copy['Fare_zscore'].mean())\n",
        "print(X_train_copy['Fare_zscore'].std())"
      ],
      "execution_count": 27,
      "outputs": [
        {
          "output_type": "stream",
          "text": [
            "5.916437306188636e-17\n",
            "1.0008035356861\n"
          ],
          "name": "stdout"
        }
      ]
    },
    {
      "cell_type": "markdown",
      "metadata": {
        "id": "GctfUCoogj3Y"
      },
      "source": [
        "### 2.MinMax Scaling\n",
        "\n",
        "**Min-Max Scaling** – All features end up having the same \n",
        "scale, but it does not handle outliers well.\n",
        "$$ X_{MinMax Scaling} = \\frac{X - X_{min}}{X_{max} - X_{min}}$$"
      ]
    },
    {
      "cell_type": "code",
      "metadata": {
        "colab": {
          "base_uri": "https://localhost:8080/",
          "height": 234
        },
        "id": "9chO0opwgago",
        "outputId": "f13f00df-9fe5-4134-e12e-4c8231a05020"
      },
      "source": [
        "# add the new created feature\n",
        "from sklearn.preprocessing import MinMaxScaler\n",
        "mms = MinMaxScaler().fit(X_train[['Fare']])\n",
        "X_train_copy = X_train.copy(deep=True)\n",
        "X_train_copy['Fare_minmax'] = mms.transform(X_train_copy[['Fare']])\n",
        "X_train_copy.head(6)"
      ],
      "execution_count": 29,
      "outputs": [
        {
          "output_type": "execute_result",
          "data": {
            "text/html": [
              "<div>\n",
              "<style scoped>\n",
              "    .dataframe tbody tr th:only-of-type {\n",
              "        vertical-align: middle;\n",
              "    }\n",
              "\n",
              "    .dataframe tbody tr th {\n",
              "        vertical-align: top;\n",
              "    }\n",
              "\n",
              "    .dataframe thead th {\n",
              "        text-align: right;\n",
              "    }\n",
              "</style>\n",
              "<table border=\"1\" class=\"dataframe\">\n",
              "  <thead>\n",
              "    <tr style=\"text-align: right;\">\n",
              "      <th></th>\n",
              "      <th>Survived</th>\n",
              "      <th>Pclass</th>\n",
              "      <th>Sex</th>\n",
              "      <th>Age</th>\n",
              "      <th>SibSp</th>\n",
              "      <th>Fare</th>\n",
              "      <th>Fare_minmax</th>\n",
              "    </tr>\n",
              "  </thead>\n",
              "  <tbody>\n",
              "    <tr>\n",
              "      <th>857</th>\n",
              "      <td>1</td>\n",
              "      <td>1</td>\n",
              "      <td>male</td>\n",
              "      <td>51.0</td>\n",
              "      <td>0</td>\n",
              "      <td>26.5500</td>\n",
              "      <td>0.051822</td>\n",
              "    </tr>\n",
              "    <tr>\n",
              "      <th>52</th>\n",
              "      <td>1</td>\n",
              "      <td>1</td>\n",
              "      <td>female</td>\n",
              "      <td>49.0</td>\n",
              "      <td>1</td>\n",
              "      <td>76.7292</td>\n",
              "      <td>0.149765</td>\n",
              "    </tr>\n",
              "    <tr>\n",
              "      <th>386</th>\n",
              "      <td>0</td>\n",
              "      <td>3</td>\n",
              "      <td>male</td>\n",
              "      <td>1.0</td>\n",
              "      <td>5</td>\n",
              "      <td>46.9000</td>\n",
              "      <td>0.091543</td>\n",
              "    </tr>\n",
              "    <tr>\n",
              "      <th>124</th>\n",
              "      <td>0</td>\n",
              "      <td>1</td>\n",
              "      <td>male</td>\n",
              "      <td>54.0</td>\n",
              "      <td>0</td>\n",
              "      <td>77.2875</td>\n",
              "      <td>0.150855</td>\n",
              "    </tr>\n",
              "    <tr>\n",
              "      <th>578</th>\n",
              "      <td>0</td>\n",
              "      <td>3</td>\n",
              "      <td>female</td>\n",
              "      <td>NaN</td>\n",
              "      <td>1</td>\n",
              "      <td>14.4583</td>\n",
              "      <td>0.028221</td>\n",
              "    </tr>\n",
              "    <tr>\n",
              "      <th>549</th>\n",
              "      <td>1</td>\n",
              "      <td>2</td>\n",
              "      <td>male</td>\n",
              "      <td>8.0</td>\n",
              "      <td>1</td>\n",
              "      <td>36.7500</td>\n",
              "      <td>0.071731</td>\n",
              "    </tr>\n",
              "  </tbody>\n",
              "</table>\n",
              "</div>"
            ],
            "text/plain": [
              "     Survived  Pclass     Sex   Age  SibSp     Fare  Fare_minmax\n",
              "857         1       1    male  51.0      0  26.5500     0.051822\n",
              "52          1       1  female  49.0      1  76.7292     0.149765\n",
              "386         0       3    male   1.0      5  46.9000     0.091543\n",
              "124         0       1    male  54.0      0  77.2875     0.150855\n",
              "578         0       3  female   NaN      1  14.4583     0.028221\n",
              "549         1       2    male   8.0      1  36.7500     0.071731"
            ]
          },
          "metadata": {},
          "execution_count": 29
        }
      ]
    },
    {
      "cell_type": "code",
      "metadata": {
        "colab": {
          "base_uri": "https://localhost:8080/"
        },
        "id": "N9y-l7UehGbN",
        "outputId": "385f839d-44cc-4c08-b529-8f72fea0e505"
      },
      "source": [
        "# check the range of Fare_minmax\n",
        "print(X_train_copy['Fare_minmax'].max())\n",
        "print(X_train_copy['Fare_minmax'].min())"
      ],
      "execution_count": 30,
      "outputs": [
        {
          "output_type": "stream",
          "text": [
            "1.0\n",
            "0.0\n"
          ],
          "name": "stdout"
        }
      ]
    },
    {
      "cell_type": "markdown",
      "metadata": {
        "id": "1fiszR_thPeo"
      },
      "source": [
        "### **3.Robust scaling**\n",
        "\n",
        "**Robust scaling** : \n",
        "Scale features using statistics that are robust to outliers. This Scaler removes the median and scales the data according to the quantile range (defaults to IQR: Interquartile Range).\n",
        "\n",
        "$$ X_{Scaled} = \\frac{X - X_{median}}{IQR}$$"
      ]
    },
    {
      "cell_type": "code",
      "metadata": {
        "colab": {
          "base_uri": "https://localhost:8080/",
          "height": 234
        },
        "id": "hxURqTmEhKE0",
        "outputId": "2b581b6f-ffff-4f46-9930-e38a0803f0af"
      },
      "source": [
        "# add the new created feature\n",
        "from sklearn.preprocessing import RobustScaler\n",
        "rs = RobustScaler().fit(X_train[['Fare']])\n",
        "X_train_copy = X_train.copy(deep=True)\n",
        "X_train_copy['Fare_robust'] = rs.transform(X_train_copy[['Fare']])\n",
        "X_train_copy.head(6)"
      ],
      "execution_count": 32,
      "outputs": [
        {
          "output_type": "execute_result",
          "data": {
            "text/html": [
              "<div>\n",
              "<style scoped>\n",
              "    .dataframe tbody tr th:only-of-type {\n",
              "        vertical-align: middle;\n",
              "    }\n",
              "\n",
              "    .dataframe tbody tr th {\n",
              "        vertical-align: top;\n",
              "    }\n",
              "\n",
              "    .dataframe thead th {\n",
              "        text-align: right;\n",
              "    }\n",
              "</style>\n",
              "<table border=\"1\" class=\"dataframe\">\n",
              "  <thead>\n",
              "    <tr style=\"text-align: right;\">\n",
              "      <th></th>\n",
              "      <th>Survived</th>\n",
              "      <th>Pclass</th>\n",
              "      <th>Sex</th>\n",
              "      <th>Age</th>\n",
              "      <th>SibSp</th>\n",
              "      <th>Fare</th>\n",
              "      <th>Fare_robust</th>\n",
              "    </tr>\n",
              "  </thead>\n",
              "  <tbody>\n",
              "    <tr>\n",
              "      <th>857</th>\n",
              "      <td>1</td>\n",
              "      <td>1</td>\n",
              "      <td>male</td>\n",
              "      <td>51.0</td>\n",
              "      <td>0</td>\n",
              "      <td>26.5500</td>\n",
              "      <td>0.492275</td>\n",
              "    </tr>\n",
              "    <tr>\n",
              "      <th>52</th>\n",
              "      <td>1</td>\n",
              "      <td>1</td>\n",
              "      <td>female</td>\n",
              "      <td>49.0</td>\n",
              "      <td>1</td>\n",
              "      <td>76.7292</td>\n",
              "      <td>2.630973</td>\n",
              "    </tr>\n",
              "    <tr>\n",
              "      <th>386</th>\n",
              "      <td>0</td>\n",
              "      <td>3</td>\n",
              "      <td>male</td>\n",
              "      <td>1.0</td>\n",
              "      <td>5</td>\n",
              "      <td>46.9000</td>\n",
              "      <td>1.359616</td>\n",
              "    </tr>\n",
              "    <tr>\n",
              "      <th>124</th>\n",
              "      <td>0</td>\n",
              "      <td>1</td>\n",
              "      <td>male</td>\n",
              "      <td>54.0</td>\n",
              "      <td>0</td>\n",
              "      <td>77.2875</td>\n",
              "      <td>2.654768</td>\n",
              "    </tr>\n",
              "    <tr>\n",
              "      <th>578</th>\n",
              "      <td>0</td>\n",
              "      <td>3</td>\n",
              "      <td>female</td>\n",
              "      <td>NaN</td>\n",
              "      <td>1</td>\n",
              "      <td>14.4583</td>\n",
              "      <td>-0.023088</td>\n",
              "    </tr>\n",
              "    <tr>\n",
              "      <th>549</th>\n",
              "      <td>1</td>\n",
              "      <td>2</td>\n",
              "      <td>male</td>\n",
              "      <td>8.0</td>\n",
              "      <td>1</td>\n",
              "      <td>36.7500</td>\n",
              "      <td>0.927011</td>\n",
              "    </tr>\n",
              "  </tbody>\n",
              "</table>\n",
              "</div>"
            ],
            "text/plain": [
              "     Survived  Pclass     Sex   Age  SibSp     Fare  Fare_robust\n",
              "857         1       1    male  51.0      0  26.5500     0.492275\n",
              "52          1       1  female  49.0      1  76.7292     2.630973\n",
              "386         0       3    male   1.0      5  46.9000     1.359616\n",
              "124         0       1    male  54.0      0  77.2875     2.654768\n",
              "578         0       3  female   NaN      1  14.4583    -0.023088\n",
              "549         1       2    male   8.0      1  36.7500     0.927011"
            ]
          },
          "metadata": {},
          "execution_count": 32
        }
      ]
    },
    {
      "cell_type": "code",
      "metadata": {
        "colab": {
          "base_uri": "https://localhost:8080/"
        },
        "id": "15lvGxDMik8O",
        "outputId": "9855fe19-483d-437e-9bb3-240a28af5d21"
      },
      "source": [
        "# check the range of Fare_minmax\n",
        "print(X_train_copy['Fare_robust'].mean())\n",
        "print(X_train_copy['Fare_robust'].std())"
      ],
      "execution_count": 34,
      "outputs": [
        {
          "output_type": "stream",
          "text": [
            "0.7440925967892128\n",
            "2.056799500684759\n"
          ],
          "name": "stdout"
        }
      ]
    },
    {
      "cell_type": "markdown",
      "metadata": {
        "id": "MuvA1f3eizEl"
      },
      "source": [
        "## **Feature Encoding**\n",
        "\n",
        "![](https://miro.medium.com/max/1200/0*T5jaa2othYfXZX9W.)\n",
        "\n",
        "1. **Label Encoding :**\n",
        "In label encoding in Python, we replace the categorical value with a numeric value between 0 and the number of classes minus 1. If the categorical variable value contains 5 distinct classes, we use (0, 1, 2, 3, and 4). \n",
        "\n",
        "\n",
        "2. **One-Hot Encoding :** \n",
        "One hot encoding is one method of converting data to prepare it for an algorithm and get a better prediction. With one-hot, we convert each categorical value into a new categorical column and assign a binary value of 1 or 0 to those columns. Each integer value is represented as a binary vector. "
      ]
    },
    {
      "cell_type": "code",
      "metadata": {
        "colab": {
          "base_uri": "https://localhost:8080/",
          "height": 142
        },
        "id": "e_bI1-Zhip07",
        "outputId": "a0edc180-fc2e-4af6-ff24-e7309f42a41d"
      },
      "source": [
        "titanic.head(3)"
      ],
      "execution_count": 35,
      "outputs": [
        {
          "output_type": "execute_result",
          "data": {
            "text/html": [
              "<div>\n",
              "<style scoped>\n",
              "    .dataframe tbody tr th:only-of-type {\n",
              "        vertical-align: middle;\n",
              "    }\n",
              "\n",
              "    .dataframe tbody tr th {\n",
              "        vertical-align: top;\n",
              "    }\n",
              "\n",
              "    .dataframe thead th {\n",
              "        text-align: right;\n",
              "    }\n",
              "</style>\n",
              "<table border=\"1\" class=\"dataframe\">\n",
              "  <thead>\n",
              "    <tr style=\"text-align: right;\">\n",
              "      <th></th>\n",
              "      <th>Survived</th>\n",
              "      <th>Pclass</th>\n",
              "      <th>Sex</th>\n",
              "      <th>Age</th>\n",
              "      <th>SibSp</th>\n",
              "      <th>Fare</th>\n",
              "    </tr>\n",
              "  </thead>\n",
              "  <tbody>\n",
              "    <tr>\n",
              "      <th>0</th>\n",
              "      <td>0</td>\n",
              "      <td>3</td>\n",
              "      <td>male</td>\n",
              "      <td>22.0</td>\n",
              "      <td>1</td>\n",
              "      <td>7.2500</td>\n",
              "    </tr>\n",
              "    <tr>\n",
              "      <th>1</th>\n",
              "      <td>1</td>\n",
              "      <td>1</td>\n",
              "      <td>female</td>\n",
              "      <td>38.0</td>\n",
              "      <td>1</td>\n",
              "      <td>71.2833</td>\n",
              "    </tr>\n",
              "    <tr>\n",
              "      <th>2</th>\n",
              "      <td>1</td>\n",
              "      <td>3</td>\n",
              "      <td>female</td>\n",
              "      <td>26.0</td>\n",
              "      <td>0</td>\n",
              "      <td>7.9250</td>\n",
              "    </tr>\n",
              "  </tbody>\n",
              "</table>\n",
              "</div>"
            ],
            "text/plain": [
              "   Survived  Pclass     Sex   Age  SibSp     Fare\n",
              "0         0       3    male  22.0      1   7.2500\n",
              "1         1       1  female  38.0      1  71.2833\n",
              "2         1       3  female  26.0      0   7.9250"
            ]
          },
          "metadata": {},
          "execution_count": 35
        }
      ]
    },
    {
      "cell_type": "code",
      "metadata": {
        "colab": {
          "base_uri": "https://localhost:8080/"
        },
        "id": "6RZfckMnjn4d",
        "outputId": "593b303a-2dc5-4abd-84bc-8e0aa4f4f1fd"
      },
      "source": [
        "from sklearn.model_selection import train_test_split\n",
        "titanic_copy = titanic.copy(deep=True)\n",
        "\n",
        "# Note that we include target variable in the X_train because we need it to supervise our discretization\n",
        "# this is not the standard way of using train-test-split\n",
        "\n",
        "X_train, X_test, y_train, y_test = train_test_split(titanic_copy, titanic_copy.Survived, test_size=0.3, random_state=0)\n",
        "X_train.shape, X_test.shape"
      ],
      "execution_count": 36,
      "outputs": [
        {
          "output_type": "execute_result",
          "data": {
            "text/plain": [
              "((623, 6), (268, 6))"
            ]
          },
          "metadata": {},
          "execution_count": 36
        }
      ]
    },
    {
      "cell_type": "code",
      "metadata": {
        "id": "nywnQRIplXCQ"
      },
      "source": [
        "# dictionary of column colors\n",
        "coldict = {'Sex':'yellow'}\n",
        "def highlight_cols(s, coldict):\n",
        "    if s.name in coldict.keys():\n",
        "        return ['background-color: {}'.format(coldict[s.name])] * len(s)\n",
        "    return [''] * len(s)"
      ],
      "execution_count": 46,
      "outputs": []
    },
    {
      "cell_type": "code",
      "metadata": {
        "colab": {
          "base_uri": "https://localhost:8080/",
          "height": 318
        },
        "id": "Yzml7KzujrX1",
        "outputId": "ae8c8f6f-f23d-45a7-aaa4-bea7e77efdbc"
      },
      "source": [
        "# 1. Label Encoding\n",
        "from sklearn.preprocessing import LabelEncoder\n",
        "le = LabelEncoder()\n",
        "\n",
        "# 2. Apply label encoding on Sex column\n",
        "X_train_copy = X_train.copy(deep=True)\n",
        "print(\"Before Label Encoding\")\n",
        "display(X_train_copy.head().style.apply(highlight_cols, coldict=coldict))\n",
        "X_train_copy[\"Sex\"] = le.fit_transform(X_train_copy[\"Sex\"])\n",
        "print(\"-\"*50)\n",
        "print(\"After Label Encoding\")\n",
        "display(X_train_copy.head().style.apply(highlight_cols, coldict=coldict))"
      ],
      "execution_count": 50,
      "outputs": [
        {
          "output_type": "stream",
          "text": [
            "Before Label Encoding\n"
          ],
          "name": "stdout"
        },
        {
          "output_type": "display_data",
          "data": {
            "text/html": [
              "<style  type=\"text/css\" >\n",
              "#T_4e72cc84_0118_11ec_b47e_0242ac1c0002row0_col2,#T_4e72cc84_0118_11ec_b47e_0242ac1c0002row1_col2,#T_4e72cc84_0118_11ec_b47e_0242ac1c0002row2_col2,#T_4e72cc84_0118_11ec_b47e_0242ac1c0002row3_col2,#T_4e72cc84_0118_11ec_b47e_0242ac1c0002row4_col2{\n",
              "            background-color:  yellow;\n",
              "        }</style><table id=\"T_4e72cc84_0118_11ec_b47e_0242ac1c0002\" ><thead>    <tr>        <th class=\"blank level0\" ></th>        <th class=\"col_heading level0 col0\" >Survived</th>        <th class=\"col_heading level0 col1\" >Pclass</th>        <th class=\"col_heading level0 col2\" >Sex</th>        <th class=\"col_heading level0 col3\" >Age</th>        <th class=\"col_heading level0 col4\" >SibSp</th>        <th class=\"col_heading level0 col5\" >Fare</th>    </tr></thead><tbody>\n",
              "                <tr>\n",
              "                        <th id=\"T_4e72cc84_0118_11ec_b47e_0242ac1c0002level0_row0\" class=\"row_heading level0 row0\" >857</th>\n",
              "                        <td id=\"T_4e72cc84_0118_11ec_b47e_0242ac1c0002row0_col0\" class=\"data row0 col0\" >1</td>\n",
              "                        <td id=\"T_4e72cc84_0118_11ec_b47e_0242ac1c0002row0_col1\" class=\"data row0 col1\" >1</td>\n",
              "                        <td id=\"T_4e72cc84_0118_11ec_b47e_0242ac1c0002row0_col2\" class=\"data row0 col2\" >male</td>\n",
              "                        <td id=\"T_4e72cc84_0118_11ec_b47e_0242ac1c0002row0_col3\" class=\"data row0 col3\" >51.000000</td>\n",
              "                        <td id=\"T_4e72cc84_0118_11ec_b47e_0242ac1c0002row0_col4\" class=\"data row0 col4\" >0</td>\n",
              "                        <td id=\"T_4e72cc84_0118_11ec_b47e_0242ac1c0002row0_col5\" class=\"data row0 col5\" >26.550000</td>\n",
              "            </tr>\n",
              "            <tr>\n",
              "                        <th id=\"T_4e72cc84_0118_11ec_b47e_0242ac1c0002level0_row1\" class=\"row_heading level0 row1\" >52</th>\n",
              "                        <td id=\"T_4e72cc84_0118_11ec_b47e_0242ac1c0002row1_col0\" class=\"data row1 col0\" >1</td>\n",
              "                        <td id=\"T_4e72cc84_0118_11ec_b47e_0242ac1c0002row1_col1\" class=\"data row1 col1\" >1</td>\n",
              "                        <td id=\"T_4e72cc84_0118_11ec_b47e_0242ac1c0002row1_col2\" class=\"data row1 col2\" >female</td>\n",
              "                        <td id=\"T_4e72cc84_0118_11ec_b47e_0242ac1c0002row1_col3\" class=\"data row1 col3\" >49.000000</td>\n",
              "                        <td id=\"T_4e72cc84_0118_11ec_b47e_0242ac1c0002row1_col4\" class=\"data row1 col4\" >1</td>\n",
              "                        <td id=\"T_4e72cc84_0118_11ec_b47e_0242ac1c0002row1_col5\" class=\"data row1 col5\" >76.729200</td>\n",
              "            </tr>\n",
              "            <tr>\n",
              "                        <th id=\"T_4e72cc84_0118_11ec_b47e_0242ac1c0002level0_row2\" class=\"row_heading level0 row2\" >386</th>\n",
              "                        <td id=\"T_4e72cc84_0118_11ec_b47e_0242ac1c0002row2_col0\" class=\"data row2 col0\" >0</td>\n",
              "                        <td id=\"T_4e72cc84_0118_11ec_b47e_0242ac1c0002row2_col1\" class=\"data row2 col1\" >3</td>\n",
              "                        <td id=\"T_4e72cc84_0118_11ec_b47e_0242ac1c0002row2_col2\" class=\"data row2 col2\" >male</td>\n",
              "                        <td id=\"T_4e72cc84_0118_11ec_b47e_0242ac1c0002row2_col3\" class=\"data row2 col3\" >1.000000</td>\n",
              "                        <td id=\"T_4e72cc84_0118_11ec_b47e_0242ac1c0002row2_col4\" class=\"data row2 col4\" >5</td>\n",
              "                        <td id=\"T_4e72cc84_0118_11ec_b47e_0242ac1c0002row2_col5\" class=\"data row2 col5\" >46.900000</td>\n",
              "            </tr>\n",
              "            <tr>\n",
              "                        <th id=\"T_4e72cc84_0118_11ec_b47e_0242ac1c0002level0_row3\" class=\"row_heading level0 row3\" >124</th>\n",
              "                        <td id=\"T_4e72cc84_0118_11ec_b47e_0242ac1c0002row3_col0\" class=\"data row3 col0\" >0</td>\n",
              "                        <td id=\"T_4e72cc84_0118_11ec_b47e_0242ac1c0002row3_col1\" class=\"data row3 col1\" >1</td>\n",
              "                        <td id=\"T_4e72cc84_0118_11ec_b47e_0242ac1c0002row3_col2\" class=\"data row3 col2\" >male</td>\n",
              "                        <td id=\"T_4e72cc84_0118_11ec_b47e_0242ac1c0002row3_col3\" class=\"data row3 col3\" >54.000000</td>\n",
              "                        <td id=\"T_4e72cc84_0118_11ec_b47e_0242ac1c0002row3_col4\" class=\"data row3 col4\" >0</td>\n",
              "                        <td id=\"T_4e72cc84_0118_11ec_b47e_0242ac1c0002row3_col5\" class=\"data row3 col5\" >77.287500</td>\n",
              "            </tr>\n",
              "            <tr>\n",
              "                        <th id=\"T_4e72cc84_0118_11ec_b47e_0242ac1c0002level0_row4\" class=\"row_heading level0 row4\" >578</th>\n",
              "                        <td id=\"T_4e72cc84_0118_11ec_b47e_0242ac1c0002row4_col0\" class=\"data row4 col0\" >0</td>\n",
              "                        <td id=\"T_4e72cc84_0118_11ec_b47e_0242ac1c0002row4_col1\" class=\"data row4 col1\" >3</td>\n",
              "                        <td id=\"T_4e72cc84_0118_11ec_b47e_0242ac1c0002row4_col2\" class=\"data row4 col2\" >female</td>\n",
              "                        <td id=\"T_4e72cc84_0118_11ec_b47e_0242ac1c0002row4_col3\" class=\"data row4 col3\" >nan</td>\n",
              "                        <td id=\"T_4e72cc84_0118_11ec_b47e_0242ac1c0002row4_col4\" class=\"data row4 col4\" >1</td>\n",
              "                        <td id=\"T_4e72cc84_0118_11ec_b47e_0242ac1c0002row4_col5\" class=\"data row4 col5\" >14.458300</td>\n",
              "            </tr>\n",
              "    </tbody></table>"
            ],
            "text/plain": [
              "<pandas.io.formats.style.Styler at 0x7f3dc4fa7dd0>"
            ]
          },
          "metadata": {}
        },
        {
          "output_type": "stream",
          "text": [
            "--------------------------------------------------\n",
            "After Label Encoding\n"
          ],
          "name": "stdout"
        },
        {
          "output_type": "display_data",
          "data": {
            "text/html": [
              "<style  type=\"text/css\" >\n",
              "#T_4e762988_0118_11ec_b47e_0242ac1c0002row0_col2,#T_4e762988_0118_11ec_b47e_0242ac1c0002row1_col2,#T_4e762988_0118_11ec_b47e_0242ac1c0002row2_col2,#T_4e762988_0118_11ec_b47e_0242ac1c0002row3_col2,#T_4e762988_0118_11ec_b47e_0242ac1c0002row4_col2{\n",
              "            background-color:  yellow;\n",
              "        }</style><table id=\"T_4e762988_0118_11ec_b47e_0242ac1c0002\" ><thead>    <tr>        <th class=\"blank level0\" ></th>        <th class=\"col_heading level0 col0\" >Survived</th>        <th class=\"col_heading level0 col1\" >Pclass</th>        <th class=\"col_heading level0 col2\" >Sex</th>        <th class=\"col_heading level0 col3\" >Age</th>        <th class=\"col_heading level0 col4\" >SibSp</th>        <th class=\"col_heading level0 col5\" >Fare</th>    </tr></thead><tbody>\n",
              "                <tr>\n",
              "                        <th id=\"T_4e762988_0118_11ec_b47e_0242ac1c0002level0_row0\" class=\"row_heading level0 row0\" >857</th>\n",
              "                        <td id=\"T_4e762988_0118_11ec_b47e_0242ac1c0002row0_col0\" class=\"data row0 col0\" >1</td>\n",
              "                        <td id=\"T_4e762988_0118_11ec_b47e_0242ac1c0002row0_col1\" class=\"data row0 col1\" >1</td>\n",
              "                        <td id=\"T_4e762988_0118_11ec_b47e_0242ac1c0002row0_col2\" class=\"data row0 col2\" >1</td>\n",
              "                        <td id=\"T_4e762988_0118_11ec_b47e_0242ac1c0002row0_col3\" class=\"data row0 col3\" >51.000000</td>\n",
              "                        <td id=\"T_4e762988_0118_11ec_b47e_0242ac1c0002row0_col4\" class=\"data row0 col4\" >0</td>\n",
              "                        <td id=\"T_4e762988_0118_11ec_b47e_0242ac1c0002row0_col5\" class=\"data row0 col5\" >26.550000</td>\n",
              "            </tr>\n",
              "            <tr>\n",
              "                        <th id=\"T_4e762988_0118_11ec_b47e_0242ac1c0002level0_row1\" class=\"row_heading level0 row1\" >52</th>\n",
              "                        <td id=\"T_4e762988_0118_11ec_b47e_0242ac1c0002row1_col0\" class=\"data row1 col0\" >1</td>\n",
              "                        <td id=\"T_4e762988_0118_11ec_b47e_0242ac1c0002row1_col1\" class=\"data row1 col1\" >1</td>\n",
              "                        <td id=\"T_4e762988_0118_11ec_b47e_0242ac1c0002row1_col2\" class=\"data row1 col2\" >0</td>\n",
              "                        <td id=\"T_4e762988_0118_11ec_b47e_0242ac1c0002row1_col3\" class=\"data row1 col3\" >49.000000</td>\n",
              "                        <td id=\"T_4e762988_0118_11ec_b47e_0242ac1c0002row1_col4\" class=\"data row1 col4\" >1</td>\n",
              "                        <td id=\"T_4e762988_0118_11ec_b47e_0242ac1c0002row1_col5\" class=\"data row1 col5\" >76.729200</td>\n",
              "            </tr>\n",
              "            <tr>\n",
              "                        <th id=\"T_4e762988_0118_11ec_b47e_0242ac1c0002level0_row2\" class=\"row_heading level0 row2\" >386</th>\n",
              "                        <td id=\"T_4e762988_0118_11ec_b47e_0242ac1c0002row2_col0\" class=\"data row2 col0\" >0</td>\n",
              "                        <td id=\"T_4e762988_0118_11ec_b47e_0242ac1c0002row2_col1\" class=\"data row2 col1\" >3</td>\n",
              "                        <td id=\"T_4e762988_0118_11ec_b47e_0242ac1c0002row2_col2\" class=\"data row2 col2\" >1</td>\n",
              "                        <td id=\"T_4e762988_0118_11ec_b47e_0242ac1c0002row2_col3\" class=\"data row2 col3\" >1.000000</td>\n",
              "                        <td id=\"T_4e762988_0118_11ec_b47e_0242ac1c0002row2_col4\" class=\"data row2 col4\" >5</td>\n",
              "                        <td id=\"T_4e762988_0118_11ec_b47e_0242ac1c0002row2_col5\" class=\"data row2 col5\" >46.900000</td>\n",
              "            </tr>\n",
              "            <tr>\n",
              "                        <th id=\"T_4e762988_0118_11ec_b47e_0242ac1c0002level0_row3\" class=\"row_heading level0 row3\" >124</th>\n",
              "                        <td id=\"T_4e762988_0118_11ec_b47e_0242ac1c0002row3_col0\" class=\"data row3 col0\" >0</td>\n",
              "                        <td id=\"T_4e762988_0118_11ec_b47e_0242ac1c0002row3_col1\" class=\"data row3 col1\" >1</td>\n",
              "                        <td id=\"T_4e762988_0118_11ec_b47e_0242ac1c0002row3_col2\" class=\"data row3 col2\" >1</td>\n",
              "                        <td id=\"T_4e762988_0118_11ec_b47e_0242ac1c0002row3_col3\" class=\"data row3 col3\" >54.000000</td>\n",
              "                        <td id=\"T_4e762988_0118_11ec_b47e_0242ac1c0002row3_col4\" class=\"data row3 col4\" >0</td>\n",
              "                        <td id=\"T_4e762988_0118_11ec_b47e_0242ac1c0002row3_col5\" class=\"data row3 col5\" >77.287500</td>\n",
              "            </tr>\n",
              "            <tr>\n",
              "                        <th id=\"T_4e762988_0118_11ec_b47e_0242ac1c0002level0_row4\" class=\"row_heading level0 row4\" >578</th>\n",
              "                        <td id=\"T_4e762988_0118_11ec_b47e_0242ac1c0002row4_col0\" class=\"data row4 col0\" >0</td>\n",
              "                        <td id=\"T_4e762988_0118_11ec_b47e_0242ac1c0002row4_col1\" class=\"data row4 col1\" >3</td>\n",
              "                        <td id=\"T_4e762988_0118_11ec_b47e_0242ac1c0002row4_col2\" class=\"data row4 col2\" >0</td>\n",
              "                        <td id=\"T_4e762988_0118_11ec_b47e_0242ac1c0002row4_col3\" class=\"data row4 col3\" >nan</td>\n",
              "                        <td id=\"T_4e762988_0118_11ec_b47e_0242ac1c0002row4_col4\" class=\"data row4 col4\" >1</td>\n",
              "                        <td id=\"T_4e762988_0118_11ec_b47e_0242ac1c0002row4_col5\" class=\"data row4 col5\" >14.458300</td>\n",
              "            </tr>\n",
              "    </tbody></table>"
            ],
            "text/plain": [
              "<pandas.io.formats.style.Styler at 0x7f3dc4fdd590>"
            ]
          },
          "metadata": {}
        }
      ]
    },
    {
      "cell_type": "code",
      "metadata": {
        "colab": {
          "base_uri": "https://localhost:8080/",
          "height": 417
        },
        "id": "BopqBD2Jkg-6",
        "outputId": "a025267f-499e-443f-bffa-7167eb3ed1ca"
      },
      "source": [
        "# 2. One-Hot Encoding\n",
        "X_train_copy = X_train.copy(deep=True)\n",
        "pd.get_dummies(X_train_copy[\"Sex\"])"
      ],
      "execution_count": 57,
      "outputs": [
        {
          "output_type": "execute_result",
          "data": {
            "text/html": [
              "<div>\n",
              "<style scoped>\n",
              "    .dataframe tbody tr th:only-of-type {\n",
              "        vertical-align: middle;\n",
              "    }\n",
              "\n",
              "    .dataframe tbody tr th {\n",
              "        vertical-align: top;\n",
              "    }\n",
              "\n",
              "    .dataframe thead th {\n",
              "        text-align: right;\n",
              "    }\n",
              "</style>\n",
              "<table border=\"1\" class=\"dataframe\">\n",
              "  <thead>\n",
              "    <tr style=\"text-align: right;\">\n",
              "      <th></th>\n",
              "      <th>female</th>\n",
              "      <th>male</th>\n",
              "    </tr>\n",
              "  </thead>\n",
              "  <tbody>\n",
              "    <tr>\n",
              "      <th>857</th>\n",
              "      <td>0</td>\n",
              "      <td>1</td>\n",
              "    </tr>\n",
              "    <tr>\n",
              "      <th>52</th>\n",
              "      <td>1</td>\n",
              "      <td>0</td>\n",
              "    </tr>\n",
              "    <tr>\n",
              "      <th>386</th>\n",
              "      <td>0</td>\n",
              "      <td>1</td>\n",
              "    </tr>\n",
              "    <tr>\n",
              "      <th>124</th>\n",
              "      <td>0</td>\n",
              "      <td>1</td>\n",
              "    </tr>\n",
              "    <tr>\n",
              "      <th>578</th>\n",
              "      <td>1</td>\n",
              "      <td>0</td>\n",
              "    </tr>\n",
              "    <tr>\n",
              "      <th>...</th>\n",
              "      <td>...</td>\n",
              "      <td>...</td>\n",
              "    </tr>\n",
              "    <tr>\n",
              "      <th>835</th>\n",
              "      <td>1</td>\n",
              "      <td>0</td>\n",
              "    </tr>\n",
              "    <tr>\n",
              "      <th>192</th>\n",
              "      <td>1</td>\n",
              "      <td>0</td>\n",
              "    </tr>\n",
              "    <tr>\n",
              "      <th>629</th>\n",
              "      <td>0</td>\n",
              "      <td>1</td>\n",
              "    </tr>\n",
              "    <tr>\n",
              "      <th>559</th>\n",
              "      <td>1</td>\n",
              "      <td>0</td>\n",
              "    </tr>\n",
              "    <tr>\n",
              "      <th>684</th>\n",
              "      <td>0</td>\n",
              "      <td>1</td>\n",
              "    </tr>\n",
              "  </tbody>\n",
              "</table>\n",
              "<p>623 rows × 2 columns</p>\n",
              "</div>"
            ],
            "text/plain": [
              "     female  male\n",
              "857       0     1\n",
              "52        1     0\n",
              "386       0     1\n",
              "124       0     1\n",
              "578       1     0\n",
              "..      ...   ...\n",
              "835       1     0\n",
              "192       1     0\n",
              "629       0     1\n",
              "559       1     0\n",
              "684       0     1\n",
              "\n",
              "[623 rows x 2 columns]"
            ]
          },
          "metadata": {},
          "execution_count": 57
        }
      ]
    },
    {
      "cell_type": "markdown",
      "metadata": {
        "id": "Bdc6ltW4mrsS"
      },
      "source": [
        "## Feature Generation"
      ]
    },
    {
      "cell_type": "markdown",
      "metadata": {
        "id": "IXwLpaNumusR"
      },
      "source": [
        "### **1.Decompose the Features**"
      ]
    },
    {
      "cell_type": "code",
      "metadata": {
        "id": "5fBAMWRLmVps"
      },
      "source": [
        "time = pd.DataFrame()\n",
        "time[\"Sequence\"] = list(range(1,32))\n",
        "time[\"Date\"] = pd.date_range(end='20/8/2021', periods=31, freq='H')"
      ],
      "execution_count": 68,
      "outputs": []
    },
    {
      "cell_type": "code",
      "metadata": {
        "colab": {
          "base_uri": "https://localhost:8080/",
          "height": 203
        },
        "id": "-vSD92lLoCFG",
        "outputId": "c8ed62d0-fe65-4df4-b08b-6e53a45073e0"
      },
      "source": [
        "time.head()"
      ],
      "execution_count": 69,
      "outputs": [
        {
          "output_type": "execute_result",
          "data": {
            "text/html": [
              "<div>\n",
              "<style scoped>\n",
              "    .dataframe tbody tr th:only-of-type {\n",
              "        vertical-align: middle;\n",
              "    }\n",
              "\n",
              "    .dataframe tbody tr th {\n",
              "        vertical-align: top;\n",
              "    }\n",
              "\n",
              "    .dataframe thead th {\n",
              "        text-align: right;\n",
              "    }\n",
              "</style>\n",
              "<table border=\"1\" class=\"dataframe\">\n",
              "  <thead>\n",
              "    <tr style=\"text-align: right;\">\n",
              "      <th></th>\n",
              "      <th>Sequence</th>\n",
              "      <th>Date</th>\n",
              "    </tr>\n",
              "  </thead>\n",
              "  <tbody>\n",
              "    <tr>\n",
              "      <th>0</th>\n",
              "      <td>1</td>\n",
              "      <td>2021-08-18 18:00:00</td>\n",
              "    </tr>\n",
              "    <tr>\n",
              "      <th>1</th>\n",
              "      <td>2</td>\n",
              "      <td>2021-08-18 19:00:00</td>\n",
              "    </tr>\n",
              "    <tr>\n",
              "      <th>2</th>\n",
              "      <td>3</td>\n",
              "      <td>2021-08-18 20:00:00</td>\n",
              "    </tr>\n",
              "    <tr>\n",
              "      <th>3</th>\n",
              "      <td>4</td>\n",
              "      <td>2021-08-18 21:00:00</td>\n",
              "    </tr>\n",
              "    <tr>\n",
              "      <th>4</th>\n",
              "      <td>5</td>\n",
              "      <td>2021-08-18 22:00:00</td>\n",
              "    </tr>\n",
              "  </tbody>\n",
              "</table>\n",
              "</div>"
            ],
            "text/plain": [
              "   Sequence                Date\n",
              "0         1 2021-08-18 18:00:00\n",
              "1         2 2021-08-18 19:00:00\n",
              "2         3 2021-08-18 20:00:00\n",
              "3         4 2021-08-18 21:00:00\n",
              "4         5 2021-08-18 22:00:00"
            ]
          },
          "metadata": {},
          "execution_count": 69
        }
      ]
    },
    {
      "cell_type": "code",
      "metadata": {
        "colab": {
          "base_uri": "https://localhost:8080/",
          "height": 203
        },
        "id": "6vLKlIOmoIkd",
        "outputId": "afe0ebb2-6250-46c4-fc84-a3a623d0848c"
      },
      "source": [
        "# Decompose the day and week\n",
        "time[\"Day\"] = time[\"Date\"].dt.day\n",
        "time[\"week\"] = time[\"Date\"].dt.isocalendar().week\n",
        "time.head()"
      ],
      "execution_count": 78,
      "outputs": [
        {
          "output_type": "execute_result",
          "data": {
            "text/html": [
              "<div>\n",
              "<style scoped>\n",
              "    .dataframe tbody tr th:only-of-type {\n",
              "        vertical-align: middle;\n",
              "    }\n",
              "\n",
              "    .dataframe tbody tr th {\n",
              "        vertical-align: top;\n",
              "    }\n",
              "\n",
              "    .dataframe thead th {\n",
              "        text-align: right;\n",
              "    }\n",
              "</style>\n",
              "<table border=\"1\" class=\"dataframe\">\n",
              "  <thead>\n",
              "    <tr style=\"text-align: right;\">\n",
              "      <th></th>\n",
              "      <th>Sequence</th>\n",
              "      <th>Date</th>\n",
              "      <th>Day</th>\n",
              "      <th>week</th>\n",
              "    </tr>\n",
              "  </thead>\n",
              "  <tbody>\n",
              "    <tr>\n",
              "      <th>0</th>\n",
              "      <td>1</td>\n",
              "      <td>2021-08-18 18:00:00</td>\n",
              "      <td>18</td>\n",
              "      <td>33</td>\n",
              "    </tr>\n",
              "    <tr>\n",
              "      <th>1</th>\n",
              "      <td>2</td>\n",
              "      <td>2021-08-18 19:00:00</td>\n",
              "      <td>18</td>\n",
              "      <td>33</td>\n",
              "    </tr>\n",
              "    <tr>\n",
              "      <th>2</th>\n",
              "      <td>3</td>\n",
              "      <td>2021-08-18 20:00:00</td>\n",
              "      <td>18</td>\n",
              "      <td>33</td>\n",
              "    </tr>\n",
              "    <tr>\n",
              "      <th>3</th>\n",
              "      <td>4</td>\n",
              "      <td>2021-08-18 21:00:00</td>\n",
              "      <td>18</td>\n",
              "      <td>33</td>\n",
              "    </tr>\n",
              "    <tr>\n",
              "      <th>4</th>\n",
              "      <td>5</td>\n",
              "      <td>2021-08-18 22:00:00</td>\n",
              "      <td>18</td>\n",
              "      <td>33</td>\n",
              "    </tr>\n",
              "  </tbody>\n",
              "</table>\n",
              "</div>"
            ],
            "text/plain": [
              "   Sequence                Date  Day  week\n",
              "0         1 2021-08-18 18:00:00   18    33\n",
              "1         2 2021-08-18 19:00:00   18    33\n",
              "2         3 2021-08-18 20:00:00   18    33\n",
              "3         4 2021-08-18 21:00:00   18    33\n",
              "4         5 2021-08-18 22:00:00   18    33"
            ]
          },
          "metadata": {},
          "execution_count": 78
        }
      ]
    },
    {
      "cell_type": "code",
      "metadata": {
        "id": "gEVuy2rQokMk"
      },
      "source": [
        "# dir(pd.Series.dt)"
      ],
      "execution_count": 80,
      "outputs": []
    },
    {
      "cell_type": "markdown",
      "metadata": {
        "id": "indG0_H-pkyN"
      },
      "source": [
        "### **2.Binning Descretization**\n",
        "* Binning is a way to group a number of more or less continuous values into a smaller number of \"bins\". "
      ]
    },
    {
      "cell_type": "code",
      "metadata": {
        "colab": {
          "base_uri": "https://localhost:8080/"
        },
        "id": "Jo2Qt3aqo4h8",
        "outputId": "369393ac-e298-4f32-fdf0-ef5fd13fb120"
      },
      "source": [
        "from sklearn.model_selection import train_test_split\n",
        "titanic_copy = titanic.copy(deep=True)\n",
        "\n",
        "# Note that we include target variable in the X_train because we need it to supervise our discretization\n",
        "# this is not the standard way of using train-test-split\n",
        "\n",
        "X_train, X_test, y_train, y_test = train_test_split(titanic_copy, titanic_copy.Survived, test_size=0.3, random_state=0)\n",
        "X_train.shape, X_test.shape"
      ],
      "execution_count": 81,
      "outputs": [
        {
          "output_type": "execute_result",
          "data": {
            "text/plain": [
              "((623, 6), (268, 6))"
            ]
          },
          "metadata": {},
          "execution_count": 81
        }
      ]
    },
    {
      "cell_type": "code",
      "metadata": {
        "id": "4HDia8PqqDh2"
      },
      "source": [
        "from sklearn.preprocessing import KBinsDiscretizer\n",
        "enc_equal_width = KBinsDiscretizer(n_bins=3,encode='ordinal',strategy='uniform').fit(X_train[['Fare']])"
      ],
      "execution_count": 82,
      "outputs": []
    },
    {
      "cell_type": "code",
      "metadata": {
        "colab": {
          "base_uri": "https://localhost:8080/"
        },
        "id": "xRiCAYlHqPq-",
        "outputId": "916e835e-4330-4ded-da54-8b10893aa417"
      },
      "source": [
        "# equal width for every bins\n",
        "enc_equal_width.bin_edges_"
      ],
      "execution_count": 83,
      "outputs": [
        {
          "output_type": "execute_result",
          "data": {
            "text/plain": [
              "array([array([  0.    , 170.7764, 341.5528, 512.3292])], dtype=object)"
            ]
          },
          "metadata": {},
          "execution_count": 83
        }
      ]
    },
    {
      "cell_type": "code",
      "metadata": {
        "colab": {
          "base_uri": "https://localhost:8080/"
        },
        "id": "LF6Pd0EdqSfl",
        "outputId": "3d3c1c12-b5cf-46a7-85cc-e46dea43e1ef"
      },
      "source": [
        "result = enc_equal_width.transform(X_train[['Fare']])\n",
        "pd.DataFrame(result)[0].value_counts()"
      ],
      "execution_count": 84,
      "outputs": [
        {
          "output_type": "execute_result",
          "data": {
            "text/plain": [
              "0.0    610\n",
              "1.0     11\n",
              "2.0      2\n",
              "Name: 0, dtype: int64"
            ]
          },
          "metadata": {},
          "execution_count": 84
        }
      ]
    },
    {
      "cell_type": "code",
      "metadata": {
        "colab": {
          "base_uri": "https://localhost:8080/"
        },
        "id": "-ivPwJoxqVMN",
        "outputId": "b0f41cb2-0417-4803-ce22-ebf6f8b9dcb0"
      },
      "source": [
        "# add the new discretized variable\n",
        "X_train_copy = X_train.copy(deep=True)\n",
        "X_train_copy['Fare_equal_width'] = enc_equal_width.transform(X_train[['Fare']])\n",
        "print(X_train_copy.head(10))"
      ],
      "execution_count": 85,
      "outputs": [
        {
          "output_type": "stream",
          "text": [
            "     Survived  Pclass     Sex   Age  SibSp      Fare  Fare_equal_width\n",
            "857         1       1    male  51.0      0   26.5500               0.0\n",
            "52          1       1  female  49.0      1   76.7292               0.0\n",
            "386         0       3    male   1.0      5   46.9000               0.0\n",
            "124         0       1    male  54.0      0   77.2875               0.0\n",
            "578         0       3  female   NaN      1   14.4583               0.0\n",
            "549         1       2    male   8.0      1   36.7500               0.0\n",
            "118         0       1    male  24.0      0  247.5208               1.0\n",
            "12          0       3    male  20.0      0    8.0500               0.0\n",
            "157         0       3    male  30.0      0    8.0500               0.0\n",
            "127         1       3    male  24.0      0    7.1417               0.0\n"
          ],
          "name": "stdout"
        }
      ]
    },
    {
      "cell_type": "markdown",
      "metadata": {
        "id": "9KjxX40sqZeQ"
      },
      "source": [
        "### 3.Reframe\n",
        "* Convert time into one units"
      ]
    },
    {
      "cell_type": "code",
      "metadata": {
        "id": "EIU0MKGeqtBw"
      },
      "source": [
        "# dir(pd.Series.dt)"
      ],
      "execution_count": 109,
      "outputs": []
    },
    {
      "cell_type": "code",
      "metadata": {
        "id": "1unVfax1qoRV"
      },
      "source": [
        "time[\"Seconds(s)\"] = np.random.randint(low=1, high=60, size=31)\n",
        "time[\"Minute(min)\"] = np.random.randint(low=1, high=60, size=31)"
      ],
      "execution_count": 105,
      "outputs": []
    },
    {
      "cell_type": "code",
      "metadata": {
        "colab": {
          "base_uri": "https://localhost:8080/",
          "height": 203
        },
        "id": "-93oClwxsRDF",
        "outputId": "e796cc70-f277-403f-f4d2-ace525dd903f"
      },
      "source": [
        "time.head()"
      ],
      "execution_count": 108,
      "outputs": [
        {
          "output_type": "execute_result",
          "data": {
            "text/html": [
              "<div>\n",
              "<style scoped>\n",
              "    .dataframe tbody tr th:only-of-type {\n",
              "        vertical-align: middle;\n",
              "    }\n",
              "\n",
              "    .dataframe tbody tr th {\n",
              "        vertical-align: top;\n",
              "    }\n",
              "\n",
              "    .dataframe thead th {\n",
              "        text-align: right;\n",
              "    }\n",
              "</style>\n",
              "<table border=\"1\" class=\"dataframe\">\n",
              "  <thead>\n",
              "    <tr style=\"text-align: right;\">\n",
              "      <th></th>\n",
              "      <th>Sequence</th>\n",
              "      <th>Date</th>\n",
              "      <th>Day</th>\n",
              "      <th>week</th>\n",
              "      <th>Seconds(s)</th>\n",
              "      <th>Minute(min)</th>\n",
              "    </tr>\n",
              "  </thead>\n",
              "  <tbody>\n",
              "    <tr>\n",
              "      <th>0</th>\n",
              "      <td>1</td>\n",
              "      <td>2021-08-18 18:00:00</td>\n",
              "      <td>18</td>\n",
              "      <td>33</td>\n",
              "      <td>34</td>\n",
              "      <td>33</td>\n",
              "    </tr>\n",
              "    <tr>\n",
              "      <th>1</th>\n",
              "      <td>2</td>\n",
              "      <td>2021-08-18 19:00:00</td>\n",
              "      <td>18</td>\n",
              "      <td>33</td>\n",
              "      <td>36</td>\n",
              "      <td>25</td>\n",
              "    </tr>\n",
              "    <tr>\n",
              "      <th>2</th>\n",
              "      <td>3</td>\n",
              "      <td>2021-08-18 20:00:00</td>\n",
              "      <td>18</td>\n",
              "      <td>33</td>\n",
              "      <td>59</td>\n",
              "      <td>45</td>\n",
              "    </tr>\n",
              "    <tr>\n",
              "      <th>3</th>\n",
              "      <td>4</td>\n",
              "      <td>2021-08-18 21:00:00</td>\n",
              "      <td>18</td>\n",
              "      <td>33</td>\n",
              "      <td>31</td>\n",
              "      <td>44</td>\n",
              "    </tr>\n",
              "    <tr>\n",
              "      <th>4</th>\n",
              "      <td>5</td>\n",
              "      <td>2021-08-18 22:00:00</td>\n",
              "      <td>18</td>\n",
              "      <td>33</td>\n",
              "      <td>35</td>\n",
              "      <td>14</td>\n",
              "    </tr>\n",
              "  </tbody>\n",
              "</table>\n",
              "</div>"
            ],
            "text/plain": [
              "   Sequence                Date  Day  week  Seconds(s)  Minute(min)\n",
              "0         1 2021-08-18 18:00:00   18    33          34           33\n",
              "1         2 2021-08-18 19:00:00   18    33          36           25\n",
              "2         3 2021-08-18 20:00:00   18    33          59           45\n",
              "3         4 2021-08-18 21:00:00   18    33          31           44\n",
              "4         5 2021-08-18 22:00:00   18    33          35           14"
            ]
          },
          "metadata": {},
          "execution_count": 108
        }
      ]
    },
    {
      "cell_type": "code",
      "metadata": {
        "colab": {
          "base_uri": "https://localhost:8080/",
          "height": 203
        },
        "id": "jX-J5EsgrXIt",
        "outputId": "91403890-f66e-4ab4-cbcb-e4cceaa38d8b"
      },
      "source": [
        "# 1. Convert Minute column into second\n",
        "time[\"Minute(min)\"] = time[\"Minute(min)\"] * 60\n",
        "\n",
        "# Now this columns convert into second and ready to display\n",
        "time.head()"
      ],
      "execution_count": 110,
      "outputs": [
        {
          "output_type": "execute_result",
          "data": {
            "text/html": [
              "<div>\n",
              "<style scoped>\n",
              "    .dataframe tbody tr th:only-of-type {\n",
              "        vertical-align: middle;\n",
              "    }\n",
              "\n",
              "    .dataframe tbody tr th {\n",
              "        vertical-align: top;\n",
              "    }\n",
              "\n",
              "    .dataframe thead th {\n",
              "        text-align: right;\n",
              "    }\n",
              "</style>\n",
              "<table border=\"1\" class=\"dataframe\">\n",
              "  <thead>\n",
              "    <tr style=\"text-align: right;\">\n",
              "      <th></th>\n",
              "      <th>Sequence</th>\n",
              "      <th>Date</th>\n",
              "      <th>Day</th>\n",
              "      <th>week</th>\n",
              "      <th>Seconds(s)</th>\n",
              "      <th>Minute(min)</th>\n",
              "    </tr>\n",
              "  </thead>\n",
              "  <tbody>\n",
              "    <tr>\n",
              "      <th>0</th>\n",
              "      <td>1</td>\n",
              "      <td>2021-08-18 18:00:00</td>\n",
              "      <td>18</td>\n",
              "      <td>33</td>\n",
              "      <td>34</td>\n",
              "      <td>1980</td>\n",
              "    </tr>\n",
              "    <tr>\n",
              "      <th>1</th>\n",
              "      <td>2</td>\n",
              "      <td>2021-08-18 19:00:00</td>\n",
              "      <td>18</td>\n",
              "      <td>33</td>\n",
              "      <td>36</td>\n",
              "      <td>1500</td>\n",
              "    </tr>\n",
              "    <tr>\n",
              "      <th>2</th>\n",
              "      <td>3</td>\n",
              "      <td>2021-08-18 20:00:00</td>\n",
              "      <td>18</td>\n",
              "      <td>33</td>\n",
              "      <td>59</td>\n",
              "      <td>2700</td>\n",
              "    </tr>\n",
              "    <tr>\n",
              "      <th>3</th>\n",
              "      <td>4</td>\n",
              "      <td>2021-08-18 21:00:00</td>\n",
              "      <td>18</td>\n",
              "      <td>33</td>\n",
              "      <td>31</td>\n",
              "      <td>2640</td>\n",
              "    </tr>\n",
              "    <tr>\n",
              "      <th>4</th>\n",
              "      <td>5</td>\n",
              "      <td>2021-08-18 22:00:00</td>\n",
              "      <td>18</td>\n",
              "      <td>33</td>\n",
              "      <td>35</td>\n",
              "      <td>840</td>\n",
              "    </tr>\n",
              "  </tbody>\n",
              "</table>\n",
              "</div>"
            ],
            "text/plain": [
              "   Sequence                Date  Day  week  Seconds(s)  Minute(min)\n",
              "0         1 2021-08-18 18:00:00   18    33          34         1980\n",
              "1         2 2021-08-18 19:00:00   18    33          36         1500\n",
              "2         3 2021-08-18 20:00:00   18    33          59         2700\n",
              "3         4 2021-08-18 21:00:00   18    33          31         2640\n",
              "4         5 2021-08-18 22:00:00   18    33          35          840"
            ]
          },
          "metadata": {},
          "execution_count": 110
        }
      ]
    },
    {
      "cell_type": "markdown",
      "metadata": {
        "id": "7wEcCkW8sskK"
      },
      "source": [
        "### 4. Crossing\n",
        "\n",
        "* Generate new column from existing one.\n",
        "![](https://www.educationalappstore.com/blog/wp-content/uploads/2020/10/bodmas.jpg)"
      ]
    },
    {
      "cell_type": "code",
      "metadata": {
        "colab": {
          "base_uri": "https://localhost:8080/",
          "height": 203
        },
        "id": "GkQEu4sBr1ul",
        "outputId": "04fa0b1c-0ea8-4645-eacd-44cf0648f445"
      },
      "source": [
        "time.head()"
      ],
      "execution_count": 111,
      "outputs": [
        {
          "output_type": "execute_result",
          "data": {
            "text/html": [
              "<div>\n",
              "<style scoped>\n",
              "    .dataframe tbody tr th:only-of-type {\n",
              "        vertical-align: middle;\n",
              "    }\n",
              "\n",
              "    .dataframe tbody tr th {\n",
              "        vertical-align: top;\n",
              "    }\n",
              "\n",
              "    .dataframe thead th {\n",
              "        text-align: right;\n",
              "    }\n",
              "</style>\n",
              "<table border=\"1\" class=\"dataframe\">\n",
              "  <thead>\n",
              "    <tr style=\"text-align: right;\">\n",
              "      <th></th>\n",
              "      <th>Sequence</th>\n",
              "      <th>Date</th>\n",
              "      <th>Day</th>\n",
              "      <th>week</th>\n",
              "      <th>Seconds(s)</th>\n",
              "      <th>Minute(min)</th>\n",
              "    </tr>\n",
              "  </thead>\n",
              "  <tbody>\n",
              "    <tr>\n",
              "      <th>0</th>\n",
              "      <td>1</td>\n",
              "      <td>2021-08-18 18:00:00</td>\n",
              "      <td>18</td>\n",
              "      <td>33</td>\n",
              "      <td>34</td>\n",
              "      <td>1980</td>\n",
              "    </tr>\n",
              "    <tr>\n",
              "      <th>1</th>\n",
              "      <td>2</td>\n",
              "      <td>2021-08-18 19:00:00</td>\n",
              "      <td>18</td>\n",
              "      <td>33</td>\n",
              "      <td>36</td>\n",
              "      <td>1500</td>\n",
              "    </tr>\n",
              "    <tr>\n",
              "      <th>2</th>\n",
              "      <td>3</td>\n",
              "      <td>2021-08-18 20:00:00</td>\n",
              "      <td>18</td>\n",
              "      <td>33</td>\n",
              "      <td>59</td>\n",
              "      <td>2700</td>\n",
              "    </tr>\n",
              "    <tr>\n",
              "      <th>3</th>\n",
              "      <td>4</td>\n",
              "      <td>2021-08-18 21:00:00</td>\n",
              "      <td>18</td>\n",
              "      <td>33</td>\n",
              "      <td>31</td>\n",
              "      <td>2640</td>\n",
              "    </tr>\n",
              "    <tr>\n",
              "      <th>4</th>\n",
              "      <td>5</td>\n",
              "      <td>2021-08-18 22:00:00</td>\n",
              "      <td>18</td>\n",
              "      <td>33</td>\n",
              "      <td>35</td>\n",
              "      <td>840</td>\n",
              "    </tr>\n",
              "  </tbody>\n",
              "</table>\n",
              "</div>"
            ],
            "text/plain": [
              "   Sequence                Date  Day  week  Seconds(s)  Minute(min)\n",
              "0         1 2021-08-18 18:00:00   18    33          34         1980\n",
              "1         2 2021-08-18 19:00:00   18    33          36         1500\n",
              "2         3 2021-08-18 20:00:00   18    33          59         2700\n",
              "3         4 2021-08-18 21:00:00   18    33          31         2640\n",
              "4         5 2021-08-18 22:00:00   18    33          35          840"
            ]
          },
          "metadata": {},
          "execution_count": 111
        }
      ]
    },
    {
      "cell_type": "code",
      "metadata": {
        "colab": {
          "base_uri": "https://localhost:8080/",
          "height": 203
        },
        "id": "VgPBer5DtEfU",
        "outputId": "0aab230b-aec6-4f47-ad3d-dcdd7c93f1d6"
      },
      "source": [
        "time[\"Total Day of years\"] = time[\"week\"] * 7\n",
        "time.head()"
      ],
      "execution_count": 112,
      "outputs": [
        {
          "output_type": "execute_result",
          "data": {
            "text/html": [
              "<div>\n",
              "<style scoped>\n",
              "    .dataframe tbody tr th:only-of-type {\n",
              "        vertical-align: middle;\n",
              "    }\n",
              "\n",
              "    .dataframe tbody tr th {\n",
              "        vertical-align: top;\n",
              "    }\n",
              "\n",
              "    .dataframe thead th {\n",
              "        text-align: right;\n",
              "    }\n",
              "</style>\n",
              "<table border=\"1\" class=\"dataframe\">\n",
              "  <thead>\n",
              "    <tr style=\"text-align: right;\">\n",
              "      <th></th>\n",
              "      <th>Sequence</th>\n",
              "      <th>Date</th>\n",
              "      <th>Day</th>\n",
              "      <th>week</th>\n",
              "      <th>Seconds(s)</th>\n",
              "      <th>Minute(min)</th>\n",
              "      <th>Total Day of years</th>\n",
              "    </tr>\n",
              "  </thead>\n",
              "  <tbody>\n",
              "    <tr>\n",
              "      <th>0</th>\n",
              "      <td>1</td>\n",
              "      <td>2021-08-18 18:00:00</td>\n",
              "      <td>18</td>\n",
              "      <td>33</td>\n",
              "      <td>34</td>\n",
              "      <td>1980</td>\n",
              "      <td>231</td>\n",
              "    </tr>\n",
              "    <tr>\n",
              "      <th>1</th>\n",
              "      <td>2</td>\n",
              "      <td>2021-08-18 19:00:00</td>\n",
              "      <td>18</td>\n",
              "      <td>33</td>\n",
              "      <td>36</td>\n",
              "      <td>1500</td>\n",
              "      <td>231</td>\n",
              "    </tr>\n",
              "    <tr>\n",
              "      <th>2</th>\n",
              "      <td>3</td>\n",
              "      <td>2021-08-18 20:00:00</td>\n",
              "      <td>18</td>\n",
              "      <td>33</td>\n",
              "      <td>59</td>\n",
              "      <td>2700</td>\n",
              "      <td>231</td>\n",
              "    </tr>\n",
              "    <tr>\n",
              "      <th>3</th>\n",
              "      <td>4</td>\n",
              "      <td>2021-08-18 21:00:00</td>\n",
              "      <td>18</td>\n",
              "      <td>33</td>\n",
              "      <td>31</td>\n",
              "      <td>2640</td>\n",
              "      <td>231</td>\n",
              "    </tr>\n",
              "    <tr>\n",
              "      <th>4</th>\n",
              "      <td>5</td>\n",
              "      <td>2021-08-18 22:00:00</td>\n",
              "      <td>18</td>\n",
              "      <td>33</td>\n",
              "      <td>35</td>\n",
              "      <td>840</td>\n",
              "      <td>231</td>\n",
              "    </tr>\n",
              "  </tbody>\n",
              "</table>\n",
              "</div>"
            ],
            "text/plain": [
              "   Sequence                Date  ...  Minute(min)  Total Day of years\n",
              "0         1 2021-08-18 18:00:00  ...         1980                 231\n",
              "1         2 2021-08-18 19:00:00  ...         1500                 231\n",
              "2         3 2021-08-18 20:00:00  ...         2700                 231\n",
              "3         4 2021-08-18 21:00:00  ...         2640                 231\n",
              "4         5 2021-08-18 22:00:00  ...          840                 231\n",
              "\n",
              "[5 rows x 7 columns]"
            ]
          },
          "metadata": {},
          "execution_count": 112
        }
      ]
    }
  ]
}